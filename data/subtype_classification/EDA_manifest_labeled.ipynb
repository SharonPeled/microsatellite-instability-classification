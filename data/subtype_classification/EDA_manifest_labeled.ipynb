{
 "cells": [
  {
   "cell_type": "code",
   "execution_count": 42,
   "id": "0cd515c0",
   "metadata": {
    "ExecuteTime": {
     "end_time": "2023-06-14T05:19:35.456287Z",
     "start_time": "2023-06-14T05:19:33.841224Z"
    }
   },
   "outputs": [],
   "source": [
    "import pandas as pd\n",
    "import numpy as np\n",
    "import os\n",
    "from glob import glob\n",
    "import json\n",
    "pd.set_option('display.max_rows', 500)"
   ]
  },
  {
   "cell_type": "code",
   "execution_count": 2,
   "id": "3c984c49",
   "metadata": {
    "ExecuteTime": {
     "end_time": "2023-06-14T05:19:47.336830Z",
     "start_time": "2023-06-14T05:19:47.209873Z"
    }
   },
   "outputs": [
    {
     "data": {
      "text/html": [
       "<div>\n",
       "<style scoped>\n",
       "    .dataframe tbody tr th:only-of-type {\n",
       "        vertical-align: middle;\n",
       "    }\n",
       "\n",
       "    .dataframe tbody tr th {\n",
       "        vertical-align: top;\n",
       "    }\n",
       "\n",
       "    .dataframe thead th {\n",
       "        text-align: right;\n",
       "    }\n",
       "</style>\n",
       "<table border=\"1\" class=\"dataframe\">\n",
       "  <thead>\n",
       "    <tr style=\"text-align: right;\">\n",
       "      <th></th>\n",
       "      <th>Study ID</th>\n",
       "      <th>Patient ID</th>\n",
       "      <th>Subtype</th>\n",
       "      <th>cohort</th>\n",
       "      <th>subtype</th>\n",
       "      <th>patient_id</th>\n",
       "    </tr>\n",
       "  </thead>\n",
       "  <tbody>\n",
       "    <tr>\n",
       "      <th>0</th>\n",
       "      <td>coadread_tcga_pan_can_atlas_2018</td>\n",
       "      <td>TCGA-AF-2687</td>\n",
       "      <td>READ_CIN</td>\n",
       "      <td>READ</td>\n",
       "      <td>CIN</td>\n",
       "      <td>TCGA-AF-2687</td>\n",
       "    </tr>\n",
       "    <tr>\n",
       "      <th>1</th>\n",
       "      <td>coadread_tcga_pan_can_atlas_2018</td>\n",
       "      <td>TCGA-AF-2690</td>\n",
       "      <td>READ_CIN</td>\n",
       "      <td>READ</td>\n",
       "      <td>CIN</td>\n",
       "      <td>TCGA-AF-2690</td>\n",
       "    </tr>\n",
       "    <tr>\n",
       "      <th>2</th>\n",
       "      <td>coadread_tcga_pan_can_atlas_2018</td>\n",
       "      <td>TCGA-AF-2693</td>\n",
       "      <td>READ_CIN</td>\n",
       "      <td>READ</td>\n",
       "      <td>CIN</td>\n",
       "      <td>TCGA-AF-2693</td>\n",
       "    </tr>\n",
       "    <tr>\n",
       "      <th>3</th>\n",
       "      <td>coadread_tcga_pan_can_atlas_2018</td>\n",
       "      <td>TCGA-AF-3911</td>\n",
       "      <td>READ_CIN</td>\n",
       "      <td>READ</td>\n",
       "      <td>CIN</td>\n",
       "      <td>TCGA-AF-3911</td>\n",
       "    </tr>\n",
       "    <tr>\n",
       "      <th>4</th>\n",
       "      <td>coadread_tcga_pan_can_atlas_2018</td>\n",
       "      <td>TCGA-AF-4110</td>\n",
       "      <td>READ_CIN</td>\n",
       "      <td>READ</td>\n",
       "      <td>CIN</td>\n",
       "      <td>TCGA-AF-4110</td>\n",
       "    </tr>\n",
       "  </tbody>\n",
       "</table>\n",
       "</div>"
      ],
      "text/plain": [
       "                           Study ID    Patient ID   Subtype cohort subtype  \\\n",
       "0  coadread_tcga_pan_can_atlas_2018  TCGA-AF-2687  READ_CIN   READ     CIN   \n",
       "1  coadread_tcga_pan_can_atlas_2018  TCGA-AF-2690  READ_CIN   READ     CIN   \n",
       "2  coadread_tcga_pan_can_atlas_2018  TCGA-AF-2693  READ_CIN   READ     CIN   \n",
       "3  coadread_tcga_pan_can_atlas_2018  TCGA-AF-3911  READ_CIN   READ     CIN   \n",
       "4  coadread_tcga_pan_can_atlas_2018  TCGA-AF-4110  READ_CIN   READ     CIN   \n",
       "\n",
       "     patient_id  \n",
       "0  TCGA-AF-2687  \n",
       "1  TCGA-AF-2690  \n",
       "2  TCGA-AF-2693  \n",
       "3  TCGA-AF-3911  \n",
       "4  TCGA-AF-4110  "
      ]
     },
     "execution_count": 2,
     "metadata": {},
     "output_type": "execute_result"
    }
   ],
   "source": [
    "# bioportal\n",
    "df_bp = pd.concat([pd.read_csv(filename, sep='\\t') for filename in \n",
    "                ['bioportal_CRC.txt', 'bioportal_STAD.txt', 'bioportal_ESCA.txt', 'bioportal_UCEC.txt']])\n",
    "df_bp['cohort'] = df_bp.Subtype.str[:4]\n",
    "df_bp['Subtype'] = df_bp['Subtype'].replace({'UCEC_CN_HIGH': 'UCEC_CIN', 'UCEC_CN_LOW':'UCEC_GS'})\n",
    "df_bp['subtype'] = df_bp.Subtype.str[5:]\n",
    "df_bp['patient_id'] = df_bp['Patient ID']\n",
    "df_bp.head()"
   ]
  },
  {
   "cell_type": "code",
   "execution_count": 3,
   "id": "699f3f66",
   "metadata": {
    "ExecuteTime": {
     "end_time": "2023-06-14T05:19:49.567357Z",
     "start_time": "2023-06-14T05:19:49.550347Z"
    }
   },
   "outputs": [
    {
     "data": {
      "text/plain": [
       "True"
      ]
     },
     "execution_count": 3,
     "metadata": {},
     "output_type": "execute_result"
    }
   ],
   "source": [
    "df_bp.patient_id.is_unique"
   ]
  },
  {
   "cell_type": "code",
   "execution_count": 4,
   "id": "77fe999e",
   "metadata": {
    "ExecuteTime": {
     "end_time": "2023-06-14T05:19:49.567357Z",
     "start_time": "2023-06-14T05:19:49.550347Z"
    }
   },
   "outputs": [
    {
     "data": {
      "text/plain": [
       "(array(['READ', 'COAD', 'STAD', 'ESCA', 'UCEC'], dtype=object),\n",
       " array(['CIN', 'GS', 'POLE', 'MSI', 'EBV', 'ESCC'], dtype=object))"
      ]
     },
     "execution_count": 4,
     "metadata": {},
     "output_type": "execute_result"
    }
   ],
   "source": [
    "df_bp.cohort.unique(), df_bp.subtype.unique()"
   ]
  },
  {
   "cell_type": "code",
   "execution_count": 5,
   "id": "556201f9",
   "metadata": {
    "ExecuteTime": {
     "end_time": "2023-06-14T05:19:52.115514Z",
     "start_time": "2023-06-14T05:19:52.042222Z"
    }
   },
   "outputs": [
    {
     "data": {
      "text/html": [
       "<div>\n",
       "<style scoped>\n",
       "    .dataframe tbody tr th:only-of-type {\n",
       "        vertical-align: middle;\n",
       "    }\n",
       "\n",
       "    .dataframe tbody tr th {\n",
       "        vertical-align: top;\n",
       "    }\n",
       "\n",
       "    .dataframe thead th {\n",
       "        text-align: right;\n",
       "    }\n",
       "</style>\n",
       "<table border=\"1\" class=\"dataframe\">\n",
       "  <thead>\n",
       "    <tr style=\"text-align: right;\">\n",
       "      <th>subtype</th>\n",
       "      <th>CIN</th>\n",
       "      <th>EBV</th>\n",
       "      <th>ESCC</th>\n",
       "      <th>GS</th>\n",
       "      <th>MSI</th>\n",
       "      <th>POLE</th>\n",
       "      <th>All</th>\n",
       "    </tr>\n",
       "    <tr>\n",
       "      <th>cohort</th>\n",
       "      <th></th>\n",
       "      <th></th>\n",
       "      <th></th>\n",
       "      <th></th>\n",
       "      <th></th>\n",
       "      <th></th>\n",
       "      <th></th>\n",
       "    </tr>\n",
       "  </thead>\n",
       "  <tbody>\n",
       "    <tr>\n",
       "      <th>COAD</th>\n",
       "      <td>226.0</td>\n",
       "      <td>NaN</td>\n",
       "      <td>NaN</td>\n",
       "      <td>49.0</td>\n",
       "      <td>60.0</td>\n",
       "      <td>6.0</td>\n",
       "      <td>341</td>\n",
       "    </tr>\n",
       "    <tr>\n",
       "      <th>ESCA</th>\n",
       "      <td>74.0</td>\n",
       "      <td>NaN</td>\n",
       "      <td>90.0</td>\n",
       "      <td>1.0</td>\n",
       "      <td>2.0</td>\n",
       "      <td>2.0</td>\n",
       "      <td>169</td>\n",
       "    </tr>\n",
       "    <tr>\n",
       "      <th>READ</th>\n",
       "      <td>102.0</td>\n",
       "      <td>NaN</td>\n",
       "      <td>NaN</td>\n",
       "      <td>9.0</td>\n",
       "      <td>3.0</td>\n",
       "      <td>4.0</td>\n",
       "      <td>118</td>\n",
       "    </tr>\n",
       "    <tr>\n",
       "      <th>STAD</th>\n",
       "      <td>223.0</td>\n",
       "      <td>30.0</td>\n",
       "      <td>NaN</td>\n",
       "      <td>50.0</td>\n",
       "      <td>73.0</td>\n",
       "      <td>7.0</td>\n",
       "      <td>383</td>\n",
       "    </tr>\n",
       "    <tr>\n",
       "      <th>UCEC</th>\n",
       "      <td>163.0</td>\n",
       "      <td>NaN</td>\n",
       "      <td>NaN</td>\n",
       "      <td>147.0</td>\n",
       "      <td>148.0</td>\n",
       "      <td>49.0</td>\n",
       "      <td>507</td>\n",
       "    </tr>\n",
       "    <tr>\n",
       "      <th>All</th>\n",
       "      <td>788.0</td>\n",
       "      <td>30.0</td>\n",
       "      <td>90.0</td>\n",
       "      <td>256.0</td>\n",
       "      <td>286.0</td>\n",
       "      <td>68.0</td>\n",
       "      <td>1518</td>\n",
       "    </tr>\n",
       "  </tbody>\n",
       "</table>\n",
       "</div>"
      ],
      "text/plain": [
       "subtype    CIN   EBV  ESCC     GS    MSI  POLE   All\n",
       "cohort                                              \n",
       "COAD     226.0   NaN   NaN   49.0   60.0   6.0   341\n",
       "ESCA      74.0   NaN  90.0    1.0    2.0   2.0   169\n",
       "READ     102.0   NaN   NaN    9.0    3.0   4.0   118\n",
       "STAD     223.0  30.0   NaN   50.0   73.0   7.0   383\n",
       "UCEC     163.0   NaN   NaN  147.0  148.0  49.0   507\n",
       "All      788.0  30.0  90.0  256.0  286.0  68.0  1518"
      ]
     },
     "execution_count": 5,
     "metadata": {},
     "output_type": "execute_result"
    }
   ],
   "source": [
    "pd.pivot_table(df_bp, values='patient_id', index=['cohort'],\n",
    "                       columns=['subtype'], aggfunc='count', margins=True)"
   ]
  },
  {
   "cell_type": "code",
   "execution_count": 6,
   "id": "b62eb006",
   "metadata": {
    "ExecuteTime": {
     "end_time": "2023-06-14T05:19:55.037402Z",
     "start_time": "2023-06-14T05:19:55.022881Z"
    }
   },
   "outputs": [
    {
     "data": {
      "text/plain": [
       "(1398, 6)"
      ]
     },
     "execution_count": 6,
     "metadata": {},
     "output_type": "execute_result"
    }
   ],
   "source": [
    "df_bp = df_bp[df_bp.subtype.isin(['CIN', 'GS', 'MSI', 'POLE'])]\n",
    "df_bp.shape"
   ]
  },
  {
   "cell_type": "code",
   "execution_count": 7,
   "id": "ae4e9b4d",
   "metadata": {
    "ExecuteTime": {
     "end_time": "2023-06-14T05:20:01.274528Z",
     "start_time": "2023-06-14T05:20:01.223245Z"
    }
   },
   "outputs": [
    {
     "data": {
      "text/html": [
       "<div>\n",
       "<style scoped>\n",
       "    .dataframe tbody tr th:only-of-type {\n",
       "        vertical-align: middle;\n",
       "    }\n",
       "\n",
       "    .dataframe tbody tr th {\n",
       "        vertical-align: top;\n",
       "    }\n",
       "\n",
       "    .dataframe thead th {\n",
       "        text-align: right;\n",
       "    }\n",
       "</style>\n",
       "<table border=\"1\" class=\"dataframe\">\n",
       "  <thead>\n",
       "    <tr style=\"text-align: right;\">\n",
       "      <th></th>\n",
       "      <th>id</th>\n",
       "      <th>filename</th>\n",
       "      <th>md5</th>\n",
       "      <th>size</th>\n",
       "      <th>state</th>\n",
       "      <th>patient_id</th>\n",
       "      <th>slide_id</th>\n",
       "    </tr>\n",
       "  </thead>\n",
       "  <tbody>\n",
       "    <tr>\n",
       "      <th>0</th>\n",
       "      <td>03f6946c-d9c3-4bd5-b767-710f5e1efb30</td>\n",
       "      <td>TCGA-B5-A1MX-01Z-00-DX1.FAC60C1A-5927-403E-BCC...</td>\n",
       "      <td>60873a549fefc93c36827bc9a670d1c2</td>\n",
       "      <td>1533140919</td>\n",
       "      <td>released</td>\n",
       "      <td>TCGA-B5-A1MX</td>\n",
       "      <td>TCGA-B5-A1MX-01Z-00-DX1</td>\n",
       "    </tr>\n",
       "    <tr>\n",
       "      <th>1</th>\n",
       "      <td>da60edeb-60c8-4fbb-a69e-4ae04528fdfc</td>\n",
       "      <td>TCGA-D1-A179-01Z-00-DX1.088EEE68-F1C0-4877-BD6...</td>\n",
       "      <td>f9ed9e977bd6be59894c9c9f8382fee6</td>\n",
       "      <td>2245479755</td>\n",
       "      <td>released</td>\n",
       "      <td>TCGA-D1-A179</td>\n",
       "      <td>TCGA-D1-A179-01Z-00-DX1</td>\n",
       "    </tr>\n",
       "    <tr>\n",
       "      <th>2</th>\n",
       "      <td>4981d0e8-0de2-494e-9f49-71ef7203591e</td>\n",
       "      <td>TCGA-D1-A0ZQ-01Z-00-DX1.B2F36A73-674A-4083-997...</td>\n",
       "      <td>2c15d65c8fab9c1261a1b85f22df4b7e</td>\n",
       "      <td>2195885857</td>\n",
       "      <td>released</td>\n",
       "      <td>TCGA-D1-A0ZQ</td>\n",
       "      <td>TCGA-D1-A0ZQ-01Z-00-DX1</td>\n",
       "    </tr>\n",
       "  </tbody>\n",
       "</table>\n",
       "</div>"
      ],
      "text/plain": [
       "                                     id  \\\n",
       "0  03f6946c-d9c3-4bd5-b767-710f5e1efb30   \n",
       "1  da60edeb-60c8-4fbb-a69e-4ae04528fdfc   \n",
       "2  4981d0e8-0de2-494e-9f49-71ef7203591e   \n",
       "\n",
       "                                            filename  \\\n",
       "0  TCGA-B5-A1MX-01Z-00-DX1.FAC60C1A-5927-403E-BCC...   \n",
       "1  TCGA-D1-A179-01Z-00-DX1.088EEE68-F1C0-4877-BD6...   \n",
       "2  TCGA-D1-A0ZQ-01Z-00-DX1.B2F36A73-674A-4083-997...   \n",
       "\n",
       "                                md5        size     state    patient_id  \\\n",
       "0  60873a549fefc93c36827bc9a670d1c2  1533140919  released  TCGA-B5-A1MX   \n",
       "1  f9ed9e977bd6be59894c9c9f8382fee6  2245479755  released  TCGA-D1-A179   \n",
       "2  2c15d65c8fab9c1261a1b85f22df4b7e  2195885857  released  TCGA-D1-A0ZQ   \n",
       "\n",
       "                  slide_id  \n",
       "0  TCGA-B5-A1MX-01Z-00-DX1  \n",
       "1  TCGA-D1-A179-01Z-00-DX1  \n",
       "2  TCGA-D1-A0ZQ-01Z-00-DX1  "
      ]
     },
     "metadata": {},
     "output_type": "display_data"
    },
    {
     "data": {
      "text/plain": [
       "(1790, 7)"
      ]
     },
     "metadata": {},
     "output_type": "display_data"
    }
   ],
   "source": [
    "df_manifest = pd.read_csv('manifest_all_dx_COAD_READ_STAD_UCEC_ESCA.txt', sep='\\t')\n",
    "df_manifest['patient_id'] = df_manifest.filename.str[:12]\n",
    "df_manifest['slide_id'] = df_manifest['filename'].apply(lambda f: f.split('.')[0])\n",
    "display(df_manifest.head(3))\n",
    "display(df_manifest.shape)"
   ]
  },
  {
   "cell_type": "code",
   "execution_count": 8,
   "id": "0485300d",
   "metadata": {
    "ExecuteTime": {
     "end_time": "2023-06-14T05:20:03.867078Z",
     "start_time": "2023-06-14T05:20:03.840582Z"
    }
   },
   "outputs": [
    {
     "data": {
      "text/html": [
       "<div>\n",
       "<style scoped>\n",
       "    .dataframe tbody tr th:only-of-type {\n",
       "        vertical-align: middle;\n",
       "    }\n",
       "\n",
       "    .dataframe tbody tr th {\n",
       "        vertical-align: top;\n",
       "    }\n",
       "\n",
       "    .dataframe thead th {\n",
       "        text-align: right;\n",
       "    }\n",
       "</style>\n",
       "<table border=\"1\" class=\"dataframe\">\n",
       "  <thead>\n",
       "    <tr style=\"text-align: right;\">\n",
       "      <th></th>\n",
       "      <th>Study ID</th>\n",
       "      <th>Patient ID</th>\n",
       "      <th>Subtype</th>\n",
       "      <th>cohort</th>\n",
       "      <th>subtype</th>\n",
       "      <th>patient_id</th>\n",
       "      <th>id</th>\n",
       "      <th>filename</th>\n",
       "      <th>md5</th>\n",
       "      <th>size</th>\n",
       "      <th>state</th>\n",
       "      <th>slide_id</th>\n",
       "    </tr>\n",
       "  </thead>\n",
       "  <tbody>\n",
       "    <tr>\n",
       "      <th>0</th>\n",
       "      <td>coadread_tcga_pan_can_atlas_2018</td>\n",
       "      <td>TCGA-AF-2687</td>\n",
       "      <td>READ_CIN</td>\n",
       "      <td>READ</td>\n",
       "      <td>CIN</td>\n",
       "      <td>TCGA-AF-2687</td>\n",
       "      <td>2c0da95f-22b6-42c4-ad5d-1e509735b7f7</td>\n",
       "      <td>TCGA-AF-2687-01Z-00-DX1.bbcd88f6-11d5-4b57-969...</td>\n",
       "      <td>a14971966fac6442d49bf7f8850dfcd1</td>\n",
       "      <td>237001551</td>\n",
       "      <td>released</td>\n",
       "      <td>TCGA-AF-2687-01Z-00-DX1</td>\n",
       "    </tr>\n",
       "    <tr>\n",
       "      <th>1</th>\n",
       "      <td>coadread_tcga_pan_can_atlas_2018</td>\n",
       "      <td>TCGA-AF-2690</td>\n",
       "      <td>READ_CIN</td>\n",
       "      <td>READ</td>\n",
       "      <td>CIN</td>\n",
       "      <td>TCGA-AF-2690</td>\n",
       "      <td>242947d0-a9ff-49d7-888e-8195c86186fe</td>\n",
       "      <td>TCGA-AF-2690-01Z-00-DX1.22cb3fa6-519d-449f-b48...</td>\n",
       "      <td>889390a6c1d40e3d3542ab51d84769bb</td>\n",
       "      <td>722835723</td>\n",
       "      <td>released</td>\n",
       "      <td>TCGA-AF-2690-01Z-00-DX1</td>\n",
       "    </tr>\n",
       "    <tr>\n",
       "      <th>2</th>\n",
       "      <td>coadread_tcga_pan_can_atlas_2018</td>\n",
       "      <td>TCGA-AF-2693</td>\n",
       "      <td>READ_CIN</td>\n",
       "      <td>READ</td>\n",
       "      <td>CIN</td>\n",
       "      <td>TCGA-AF-2693</td>\n",
       "      <td>2f21d4ce-cc8c-4ccb-b91e-3780cce55249</td>\n",
       "      <td>TCGA-AF-2693-01Z-00-DX1.620a9998-65df-4024-b71...</td>\n",
       "      <td>e50fb9b8e5f481bb7231fad4c3dc2a22</td>\n",
       "      <td>147031181</td>\n",
       "      <td>released</td>\n",
       "      <td>TCGA-AF-2693-01Z-00-DX1</td>\n",
       "    </tr>\n",
       "  </tbody>\n",
       "</table>\n",
       "</div>"
      ],
      "text/plain": [
       "                           Study ID    Patient ID   Subtype cohort subtype  \\\n",
       "0  coadread_tcga_pan_can_atlas_2018  TCGA-AF-2687  READ_CIN   READ     CIN   \n",
       "1  coadread_tcga_pan_can_atlas_2018  TCGA-AF-2690  READ_CIN   READ     CIN   \n",
       "2  coadread_tcga_pan_can_atlas_2018  TCGA-AF-2693  READ_CIN   READ     CIN   \n",
       "\n",
       "     patient_id                                    id  \\\n",
       "0  TCGA-AF-2687  2c0da95f-22b6-42c4-ad5d-1e509735b7f7   \n",
       "1  TCGA-AF-2690  242947d0-a9ff-49d7-888e-8195c86186fe   \n",
       "2  TCGA-AF-2693  2f21d4ce-cc8c-4ccb-b91e-3780cce55249   \n",
       "\n",
       "                                            filename  \\\n",
       "0  TCGA-AF-2687-01Z-00-DX1.bbcd88f6-11d5-4b57-969...   \n",
       "1  TCGA-AF-2690-01Z-00-DX1.22cb3fa6-519d-449f-b48...   \n",
       "2  TCGA-AF-2693-01Z-00-DX1.620a9998-65df-4024-b71...   \n",
       "\n",
       "                                md5       size     state  \\\n",
       "0  a14971966fac6442d49bf7f8850dfcd1  237001551  released   \n",
       "1  889390a6c1d40e3d3542ab51d84769bb  722835723  released   \n",
       "2  e50fb9b8e5f481bb7231fad4c3dc2a22  147031181  released   \n",
       "\n",
       "                  slide_id  \n",
       "0  TCGA-AF-2687-01Z-00-DX1  \n",
       "1  TCGA-AF-2690-01Z-00-DX1  \n",
       "2  TCGA-AF-2693-01Z-00-DX1  "
      ]
     },
     "metadata": {},
     "output_type": "display_data"
    },
    {
     "data": {
      "text/plain": [
       "(1389, 12)"
      ]
     },
     "metadata": {},
     "output_type": "display_data"
    }
   ],
   "source": [
    "df_merged_manifest = df_bp.merge(df_manifest, on='patient_id', how='inner')\n",
    "display(df_merged_manifest.head(3))\n",
    "display(df_merged_manifest.shape)"
   ]
  },
  {
   "cell_type": "code",
   "execution_count": 9,
   "id": "36609ddc",
   "metadata": {
    "ExecuteTime": {
     "end_time": "2023-06-14T05:26:46.914533Z",
     "start_time": "2023-06-14T05:26:46.905493Z"
    }
   },
   "outputs": [
    {
     "data": {
      "text/plain": [
       "(1038, 12)"
      ]
     },
     "execution_count": 9,
     "metadata": {},
     "output_type": "execute_result"
    }
   ],
   "source": [
    "df_merged_manifest[df_merged_manifest.subtype.isin(['CIN', 'GS'])].shape"
   ]
  },
  {
   "cell_type": "code",
   "execution_count": 11,
   "id": "aee241b6",
   "metadata": {
    "ExecuteTime": {
     "end_time": "2023-06-14T05:32:46.476336Z",
     "start_time": "2023-06-14T05:32:46.466236Z"
    },
    "scrolled": true
   },
   "outputs": [
    {
     "data": {
      "text/plain": [
       "1386"
      ]
     },
     "execution_count": 11,
     "metadata": {},
     "output_type": "execute_result"
    }
   ],
   "source": [
    "folder = '/mnt/data/users/sharonpe/slides'\n",
    "slide_paths = glob(f\"{folder}/**/*.svs\", recursive=True)\n",
    "len(slide_paths)"
   ]
  },
  {
   "cell_type": "code",
   "execution_count": 34,
   "id": "3adb06de",
   "metadata": {
    "ExecuteTime": {
     "end_time": "2023-06-14T05:32:44.219821Z",
     "start_time": "2023-06-14T05:32:44.207534Z"
    }
   },
   "outputs": [
    {
     "data": {
      "text/html": [
       "<div>\n",
       "<style scoped>\n",
       "    .dataframe tbody tr th:only-of-type {\n",
       "        vertical-align: middle;\n",
       "    }\n",
       "\n",
       "    .dataframe tbody tr th {\n",
       "        vertical-align: top;\n",
       "    }\n",
       "\n",
       "    .dataframe thead th {\n",
       "        text-align: right;\n",
       "    }\n",
       "</style>\n",
       "<table border=\"1\" class=\"dataframe\">\n",
       "  <thead>\n",
       "    <tr style=\"text-align: right;\">\n",
       "      <th></th>\n",
       "      <th>slide_path</th>\n",
       "      <th>slide_id</th>\n",
       "      <th>slide_uuid</th>\n",
       "    </tr>\n",
       "  </thead>\n",
       "  <tbody>\n",
       "    <tr>\n",
       "      <th>0</th>\n",
       "      <td>/mnt/data/users/sharonpe/slides/5cc73ca6-b47f-...</td>\n",
       "      <td>TCGA-VR-AA4D-01Z-00-DX1</td>\n",
       "      <td>5cc73ca6-b47f-4bd2-820d-3fc02f8c2e5b</td>\n",
       "    </tr>\n",
       "    <tr>\n",
       "      <th>1</th>\n",
       "      <td>/mnt/data/users/sharonpe/slides/3107b1c0-d416-...</td>\n",
       "      <td>TCGA-PG-A914-01Z-00-DX2</td>\n",
       "      <td>3107b1c0-d416-4802-976b-0550533667fb</td>\n",
       "    </tr>\n",
       "  </tbody>\n",
       "</table>\n",
       "</div>"
      ],
      "text/plain": [
       "                                          slide_path                 slide_id  \\\n",
       "0  /mnt/data/users/sharonpe/slides/5cc73ca6-b47f-...  TCGA-VR-AA4D-01Z-00-DX1   \n",
       "1  /mnt/data/users/sharonpe/slides/3107b1c0-d416-...  TCGA-PG-A914-01Z-00-DX2   \n",
       "\n",
       "                             slide_uuid  \n",
       "0  5cc73ca6-b47f-4bd2-820d-3fc02f8c2e5b  \n",
       "1  3107b1c0-d416-4802-976b-0550533667fb  "
      ]
     },
     "execution_count": 34,
     "metadata": {},
     "output_type": "execute_result"
    }
   ],
   "source": [
    "df_slide_ids = pd.DataFrame({'slide_path': slide_paths})\n",
    "df_slide_ids['slide_id'] = df_slide_ids['slide_path'].apply(lambda f: f.split('/')[-1].split('.')[0])\n",
    "df_slide_ids['slide_uuid'] = df_slide_ids.slide_path.apply(lambda p: p.split('/')[-2])\n",
    "df_slide_ids.head(2)"
   ]
  },
  {
   "cell_type": "code",
   "execution_count": 35,
   "id": "79a933d8",
   "metadata": {
    "ExecuteTime": {
     "end_time": "2023-06-14T05:32:49.988663Z",
     "start_time": "2023-06-14T05:32:49.970090Z"
    }
   },
   "outputs": [
    {
     "data": {
      "text/plain": [
       "3"
      ]
     },
     "execution_count": 35,
     "metadata": {},
     "output_type": "execute_result"
    }
   ],
   "source": [
    "(~df_merged_manifest['slide_id'].isin(df_slide_ids.slide_id)).sum() # failed to download"
   ]
  },
  {
   "cell_type": "code",
   "execution_count": 36,
   "id": "c57c67cd",
   "metadata": {
    "ExecuteTime": {
     "end_time": "2023-06-14T05:32:49.988663Z",
     "start_time": "2023-06-14T05:32:49.970090Z"
    }
   },
   "outputs": [
    {
     "data": {
      "text/plain": [
       "1338"
      ]
     },
     "execution_count": 36,
     "metadata": {},
     "output_type": "execute_result"
    }
   ],
   "source": [
    "folder = '/mnt/data/users/sharonpe/processed_tiles_224'\n",
    "tile_folder_paths = glob(f\"{folder}/*\", recursive=True)\n",
    "len(tile_folder_paths)"
   ]
  },
  {
   "cell_type": "code",
   "execution_count": 37,
   "id": "1e5e3d22",
   "metadata": {
    "ExecuteTime": {
     "end_time": "2023-06-14T05:32:49.988663Z",
     "start_time": "2023-06-14T05:32:49.970090Z"
    }
   },
   "outputs": [
    {
     "data": {
      "text/plain": [
       "(1338, 3)"
      ]
     },
     "execution_count": 37,
     "metadata": {},
     "output_type": "execute_result"
    }
   ],
   "source": [
    "tile_folders = pd.Series(tile_folder_paths).apply(lambda t: t.split('/')[-1])\n",
    "df_slide_ids[df_slide_ids.slide_uuid.isin(tile_folders)].shape"
   ]
  },
  {
   "cell_type": "code",
   "execution_count": 38,
   "id": "6eb72497",
   "metadata": {
    "ExecuteTime": {
     "end_time": "2023-06-14T05:32:49.988663Z",
     "start_time": "2023-06-14T05:32:49.970090Z"
    }
   },
   "outputs": [
    {
     "data": {
      "text/plain": [
       "(1338, 3)"
      ]
     },
     "execution_count": 38,
     "metadata": {},
     "output_type": "execute_result"
    }
   ],
   "source": [
    "# filtering to only slides that the tiling process was successful\n",
    "# in this case, 46 slides were corrupt (no MAG, too small), 2 slides missed levels [2, 3] (could not make tissue thumbnail)\n",
    "df_slide_ids = df_slide_ids[df_slide_ids.slide_uuid.isin(tile_folders)] \n",
    "df_slide_ids.shape"
   ]
  },
  {
   "cell_type": "code",
   "execution_count": 39,
   "id": "63e7f3ad",
   "metadata": {
    "ExecuteTime": {
     "end_time": "2023-06-14T05:32:49.988663Z",
     "start_time": "2023-06-14T05:32:49.970090Z"
    }
   },
   "outputs": [
    {
     "data": {
      "text/plain": [
       "True"
      ]
     },
     "execution_count": 39,
     "metadata": {},
     "output_type": "execute_result"
    }
   ],
   "source": [
    "df_slide_ids['slide_id'].isin(df_merged_manifest.slide_id).all()"
   ]
  },
  {
   "cell_type": "code",
   "execution_count": 40,
   "id": "656f7c65",
   "metadata": {
    "ExecuteTime": {
     "end_time": "2023-06-14T05:32:49.988663Z",
     "start_time": "2023-06-14T05:32:49.970090Z"
    }
   },
   "outputs": [
    {
     "data": {
      "text/html": [
       "<div>\n",
       "<style scoped>\n",
       "    .dataframe tbody tr th:only-of-type {\n",
       "        vertical-align: middle;\n",
       "    }\n",
       "\n",
       "    .dataframe tbody tr th {\n",
       "        vertical-align: top;\n",
       "    }\n",
       "\n",
       "    .dataframe thead th {\n",
       "        text-align: right;\n",
       "    }\n",
       "</style>\n",
       "<table border=\"1\" class=\"dataframe\">\n",
       "  <thead>\n",
       "    <tr style=\"text-align: right;\">\n",
       "      <th></th>\n",
       "      <th>Study ID</th>\n",
       "      <th>Patient ID</th>\n",
       "      <th>Subtype</th>\n",
       "      <th>cohort</th>\n",
       "      <th>subtype</th>\n",
       "      <th>patient_id</th>\n",
       "      <th>id</th>\n",
       "      <th>filename</th>\n",
       "      <th>md5</th>\n",
       "      <th>size</th>\n",
       "      <th>state</th>\n",
       "      <th>slide_id</th>\n",
       "      <th>slide_path</th>\n",
       "      <th>slide_uuid</th>\n",
       "    </tr>\n",
       "  </thead>\n",
       "  <tbody>\n",
       "    <tr>\n",
       "      <th>0</th>\n",
       "      <td>coadread_tcga_pan_can_atlas_2018</td>\n",
       "      <td>TCGA-AF-2687</td>\n",
       "      <td>READ_CIN</td>\n",
       "      <td>READ</td>\n",
       "      <td>CIN</td>\n",
       "      <td>TCGA-AF-2687</td>\n",
       "      <td>2c0da95f-22b6-42c4-ad5d-1e509735b7f7</td>\n",
       "      <td>TCGA-AF-2687-01Z-00-DX1.bbcd88f6-11d5-4b57-969...</td>\n",
       "      <td>a14971966fac6442d49bf7f8850dfcd1</td>\n",
       "      <td>237001551</td>\n",
       "      <td>released</td>\n",
       "      <td>TCGA-AF-2687-01Z-00-DX1</td>\n",
       "      <td>/mnt/data/users/sharonpe/slides/2c0da95f-22b6-...</td>\n",
       "      <td>2c0da95f-22b6-42c4-ad5d-1e509735b7f7</td>\n",
       "    </tr>\n",
       "  </tbody>\n",
       "</table>\n",
       "</div>"
      ],
      "text/plain": [
       "                           Study ID    Patient ID   Subtype cohort subtype  \\\n",
       "0  coadread_tcga_pan_can_atlas_2018  TCGA-AF-2687  READ_CIN   READ     CIN   \n",
       "\n",
       "     patient_id                                    id  \\\n",
       "0  TCGA-AF-2687  2c0da95f-22b6-42c4-ad5d-1e509735b7f7   \n",
       "\n",
       "                                            filename  \\\n",
       "0  TCGA-AF-2687-01Z-00-DX1.bbcd88f6-11d5-4b57-969...   \n",
       "\n",
       "                                md5       size     state  \\\n",
       "0  a14971966fac6442d49bf7f8850dfcd1  237001551  released   \n",
       "\n",
       "                  slide_id                                         slide_path  \\\n",
       "0  TCGA-AF-2687-01Z-00-DX1  /mnt/data/users/sharonpe/slides/2c0da95f-22b6-...   \n",
       "\n",
       "                             slide_uuid  \n",
       "0  2c0da95f-22b6-42c4-ad5d-1e509735b7f7  "
      ]
     },
     "metadata": {},
     "output_type": "display_data"
    },
    {
     "data": {
      "text/plain": [
       "(1338, 14)"
      ]
     },
     "metadata": {},
     "output_type": "display_data"
    }
   ],
   "source": [
    "df_merged_manifest = df_merged_manifest.merge(df_slide_ids, on='slide_id', how='inner')\n",
    "display(df_merged_manifest.head(1))\n",
    "display(df_merged_manifest.shape)"
   ]
  },
  {
   "cell_type": "code",
   "execution_count": 44,
   "id": "5afc283d",
   "metadata": {
    "ExecuteTime": {
     "end_time": "2023-06-13T15:48:50.736927Z",
     "start_time": "2023-06-13T15:48:50.685744Z"
    }
   },
   "outputs": [
    {
     "data": {
      "text/html": [
       "<div>\n",
       "<style scoped>\n",
       "    .dataframe tbody tr th:only-of-type {\n",
       "        vertical-align: middle;\n",
       "    }\n",
       "\n",
       "    .dataframe tbody tr th {\n",
       "        vertical-align: top;\n",
       "    }\n",
       "\n",
       "    .dataframe thead th {\n",
       "        text-align: right;\n",
       "    }\n",
       "</style>\n",
       "<table border=\"1\" class=\"dataframe\">\n",
       "  <thead>\n",
       "    <tr style=\"text-align: right;\">\n",
       "      <th></th>\n",
       "      <th>slide_uuid</th>\n",
       "      <th>path</th>\n",
       "      <th>summary_df_path</th>\n",
       "      <th>metadata_path</th>\n",
       "      <th>tile_size</th>\n",
       "      <th>tile_size_r</th>\n",
       "      <th>num_x_tiles</th>\n",
       "      <th>num_y_tiles</th>\n",
       "      <th>num_tiles</th>\n",
       "      <th>reduced_shape</th>\n",
       "      <th>tissue_attr</th>\n",
       "      <th>otsu_val</th>\n",
       "      <th>shape</th>\n",
       "      <th>Saving metadata time</th>\n",
       "      <th>Tissue</th>\n",
       "      <th>Background</th>\n",
       "      <th>Black</th>\n",
       "      <th>Pen</th>\n",
       "      <th>processed_tiles_dir</th>\n",
       "      <th>Done preprocessing</th>\n",
       "    </tr>\n",
       "  </thead>\n",
       "  <tbody>\n",
       "    <tr>\n",
       "      <th>0</th>\n",
       "      <td>5cc73ca6-b47f-4bd2-820d-3fc02f8c2e5b</td>\n",
       "      <td>/mnt/data/users/sharonpe/slides/5cc73ca6-b47f-...</td>\n",
       "      <td>/mnt/data/users/sharonpe/slides/5cc73ca6-b47f-...</td>\n",
       "      <td>/mnt/data/users/sharonpe/slides/5cc73ca6-b47f-...</td>\n",
       "      <td>224.0</td>\n",
       "      <td>14.0</td>\n",
       "      <td>160.0</td>\n",
       "      <td>226.0</td>\n",
       "      <td>36160.0</td>\n",
       "      <td>[2240, 3164]</td>\n",
       "      <td>Tissue</td>\n",
       "      <td>183.0</td>\n",
       "      <td>[35840, 35840]</td>\n",
       "      <td>2023-06-18 04:16:09</td>\n",
       "      <td>[0.3557798672566372, 12865.0]</td>\n",
       "      <td>[0.6433904867256637, 23265.0]</td>\n",
       "      <td>[0.000829646017699115, 30.0]</td>\n",
       "      <td>[0.0, 0.0]</td>\n",
       "      <td>/mnt/data/users/sharonpe/processed_tiles_224</td>\n",
       "      <td>True</td>\n",
       "    </tr>\n",
       "  </tbody>\n",
       "</table>\n",
       "</div>"
      ],
      "text/plain": [
       "                             slide_uuid  \\\n",
       "0  5cc73ca6-b47f-4bd2-820d-3fc02f8c2e5b   \n",
       "\n",
       "                                                path  \\\n",
       "0  /mnt/data/users/sharonpe/slides/5cc73ca6-b47f-...   \n",
       "\n",
       "                                     summary_df_path  \\\n",
       "0  /mnt/data/users/sharonpe/slides/5cc73ca6-b47f-...   \n",
       "\n",
       "                                       metadata_path  tile_size  tile_size_r  \\\n",
       "0  /mnt/data/users/sharonpe/slides/5cc73ca6-b47f-...      224.0         14.0   \n",
       "\n",
       "   num_x_tiles  num_y_tiles  num_tiles reduced_shape tissue_attr  otsu_val  \\\n",
       "0        160.0        226.0    36160.0  [2240, 3164]      Tissue     183.0   \n",
       "\n",
       "            shape Saving metadata time                         Tissue  \\\n",
       "0  [35840, 35840]  2023-06-18 04:16:09  [0.3557798672566372, 12865.0]   \n",
       "\n",
       "                      Background                         Black         Pen  \\\n",
       "0  [0.6433904867256637, 23265.0]  [0.000829646017699115, 30.0]  [0.0, 0.0]   \n",
       "\n",
       "                            processed_tiles_dir Done preprocessing  \n",
       "0  /mnt/data/users/sharonpe/processed_tiles_224               True  "
      ]
     },
     "metadata": {},
     "output_type": "display_data"
    },
    {
     "data": {
      "text/plain": [
       "(1340, 20)"
      ]
     },
     "metadata": {},
     "output_type": "display_data"
    }
   ],
   "source": [
    "folder = '/mnt/data/users/sharonpe/slides'\n",
    "metadata_paths = glob(f\"{folder}/**/metadata_224.json\", recursive=True)\n",
    "json_list = []\n",
    "for path in metadata_paths:\n",
    "    with open(path, 'r') as file:\n",
    "        json_list.append(json.load(file))\n",
    "df_jsons = pd.DataFrame.from_records(json_list)\n",
    "df_jsons = df_jsons[df_jsons.columns[~pd.Series(df_jsons.columns).str.startswith('Finish')]]\n",
    "display(df_jsons.head(1))\n",
    "display(df_jsons.shape)"
   ]
  },
  {
   "cell_type": "code",
   "execution_count": 45,
   "id": "d0a98a66",
   "metadata": {
    "ExecuteTime": {
     "end_time": "2023-06-13T15:48:50.736927Z",
     "start_time": "2023-06-13T15:48:50.685744Z"
    }
   },
   "outputs": [
    {
     "data": {
      "text/html": [
       "<div>\n",
       "<style scoped>\n",
       "    .dataframe tbody tr th:only-of-type {\n",
       "        vertical-align: middle;\n",
       "    }\n",
       "\n",
       "    .dataframe tbody tr th {\n",
       "        vertical-align: top;\n",
       "    }\n",
       "\n",
       "    .dataframe thead th {\n",
       "        text-align: right;\n",
       "    }\n",
       "</style>\n",
       "<table border=\"1\" class=\"dataframe\">\n",
       "  <thead>\n",
       "    <tr style=\"text-align: right;\">\n",
       "      <th></th>\n",
       "      <th>Study ID</th>\n",
       "      <th>Patient ID</th>\n",
       "      <th>Subtype</th>\n",
       "      <th>cohort</th>\n",
       "      <th>subtype</th>\n",
       "      <th>patient_id</th>\n",
       "      <th>id</th>\n",
       "      <th>filename</th>\n",
       "      <th>md5</th>\n",
       "      <th>size</th>\n",
       "      <th>...</th>\n",
       "      <th>tissue_attr</th>\n",
       "      <th>otsu_val</th>\n",
       "      <th>shape</th>\n",
       "      <th>Saving metadata time</th>\n",
       "      <th>Tissue</th>\n",
       "      <th>Background</th>\n",
       "      <th>Black</th>\n",
       "      <th>Pen</th>\n",
       "      <th>processed_tiles_dir</th>\n",
       "      <th>Done preprocessing</th>\n",
       "    </tr>\n",
       "  </thead>\n",
       "  <tbody>\n",
       "    <tr>\n",
       "      <th>0</th>\n",
       "      <td>coadread_tcga_pan_can_atlas_2018</td>\n",
       "      <td>TCGA-AF-2687</td>\n",
       "      <td>READ_CIN</td>\n",
       "      <td>READ</td>\n",
       "      <td>CIN</td>\n",
       "      <td>TCGA-AF-2687</td>\n",
       "      <td>2c0da95f-22b6-42c4-ad5d-1e509735b7f7</td>\n",
       "      <td>TCGA-AF-2687-01Z-00-DX1.bbcd88f6-11d5-4b57-969...</td>\n",
       "      <td>a14971966fac6442d49bf7f8850dfcd1</td>\n",
       "      <td>237001551</td>\n",
       "      <td>...</td>\n",
       "      <td>Tissue</td>\n",
       "      <td>183.0</td>\n",
       "      <td>[40320, 40320]</td>\n",
       "      <td>2023-06-18 00:59:47</td>\n",
       "      <td>[0.2939636752136752, 5503.0]</td>\n",
       "      <td>[0.7038995726495727, 13177.0]</td>\n",
       "      <td>[0.002136752136752137, 40.0]</td>\n",
       "      <td>[0.0, 0.0]</td>\n",
       "      <td>/mnt/data/users/sharonpe/processed_tiles_224</td>\n",
       "      <td>True</td>\n",
       "    </tr>\n",
       "  </tbody>\n",
       "</table>\n",
       "<p>1 rows × 34 columns</p>\n",
       "</div>"
      ],
      "text/plain": [
       "                           Study ID    Patient ID   Subtype cohort subtype  \\\n",
       "0  coadread_tcga_pan_can_atlas_2018  TCGA-AF-2687  READ_CIN   READ     CIN   \n",
       "\n",
       "     patient_id                                    id  \\\n",
       "0  TCGA-AF-2687  2c0da95f-22b6-42c4-ad5d-1e509735b7f7   \n",
       "\n",
       "                                            filename  \\\n",
       "0  TCGA-AF-2687-01Z-00-DX1.bbcd88f6-11d5-4b57-969...   \n",
       "\n",
       "                                md5       size  ... tissue_attr otsu_val  \\\n",
       "0  a14971966fac6442d49bf7f8850dfcd1  237001551  ...      Tissue    183.0   \n",
       "\n",
       "            shape Saving metadata time                        Tissue  \\\n",
       "0  [40320, 40320]  2023-06-18 00:59:47  [0.2939636752136752, 5503.0]   \n",
       "\n",
       "                      Background                         Black         Pen  \\\n",
       "0  [0.7038995726495727, 13177.0]  [0.002136752136752137, 40.0]  [0.0, 0.0]   \n",
       "\n",
       "                            processed_tiles_dir  Done preprocessing  \n",
       "0  /mnt/data/users/sharonpe/processed_tiles_224                True  \n",
       "\n",
       "[1 rows x 34 columns]"
      ]
     },
     "metadata": {},
     "output_type": "display_data"
    },
    {
     "data": {
      "text/plain": [
       "(1338, 34)"
      ]
     },
     "metadata": {},
     "output_type": "display_data"
    }
   ],
   "source": [
    "df_merged_manifest_jsons = df_merged_manifest.merge(df_jsons, how='inner', left_on='id', right_on='slide_uuid')\n",
    "display(df_merged_manifest_jsons.head(1))\n",
    "display(df_merged_manifest_jsons.shape)"
   ]
  },
  {
   "cell_type": "code",
   "execution_count": 55,
   "id": "2f024a5f",
   "metadata": {
    "ExecuteTime": {
     "end_time": "2023-06-13T15:48:50.736927Z",
     "start_time": "2023-06-13T15:48:50.685744Z"
    }
   },
   "outputs": [
    {
     "data": {
      "text/html": [
       "<div>\n",
       "<style scoped>\n",
       "    .dataframe tbody tr th:only-of-type {\n",
       "        vertical-align: middle;\n",
       "    }\n",
       "\n",
       "    .dataframe tbody tr th {\n",
       "        vertical-align: top;\n",
       "    }\n",
       "\n",
       "    .dataframe thead th {\n",
       "        text-align: right;\n",
       "    }\n",
       "</style>\n",
       "<table border=\"1\" class=\"dataframe\">\n",
       "  <thead>\n",
       "    <tr style=\"text-align: right;\">\n",
       "      <th></th>\n",
       "      <th>Study ID</th>\n",
       "      <th>Patient ID</th>\n",
       "      <th>Subtype</th>\n",
       "      <th>cohort</th>\n",
       "      <th>subtype</th>\n",
       "      <th>patient_id</th>\n",
       "      <th>id</th>\n",
       "      <th>filename</th>\n",
       "      <th>md5</th>\n",
       "      <th>size</th>\n",
       "      <th>...</th>\n",
       "      <th>tissue_attr</th>\n",
       "      <th>otsu_val</th>\n",
       "      <th>shape</th>\n",
       "      <th>Saving metadata time</th>\n",
       "      <th>Tissue</th>\n",
       "      <th>Background</th>\n",
       "      <th>Black</th>\n",
       "      <th>Pen</th>\n",
       "      <th>processed_tiles_dir</th>\n",
       "      <th>Done preprocessing</th>\n",
       "    </tr>\n",
       "  </thead>\n",
       "  <tbody>\n",
       "    <tr>\n",
       "      <th>0</th>\n",
       "      <td>coadread_tcga_pan_can_atlas_2018</td>\n",
       "      <td>TCGA-AF-2687</td>\n",
       "      <td>READ_CIN</td>\n",
       "      <td>READ</td>\n",
       "      <td>CIN</td>\n",
       "      <td>TCGA-AF-2687</td>\n",
       "      <td>2c0da95f-22b6-42c4-ad5d-1e509735b7f7</td>\n",
       "      <td>TCGA-AF-2687-01Z-00-DX1.bbcd88f6-11d5-4b57-969...</td>\n",
       "      <td>a14971966fac6442d49bf7f8850dfcd1</td>\n",
       "      <td>237001551</td>\n",
       "      <td>...</td>\n",
       "      <td>Tissue</td>\n",
       "      <td>183.0</td>\n",
       "      <td>[40320, 40320]</td>\n",
       "      <td>2023-06-18 00:59:47</td>\n",
       "      <td>[0.2939636752136752, 5503.0]</td>\n",
       "      <td>[0.7038995726495727, 13177.0]</td>\n",
       "      <td>[0.002136752136752137, 40.0]</td>\n",
       "      <td>[0.0, 0.0]</td>\n",
       "      <td>/mnt/data/users/sharonpe/processed_tiles_224</td>\n",
       "      <td>True</td>\n",
       "    </tr>\n",
       "  </tbody>\n",
       "</table>\n",
       "<p>1 rows × 34 columns</p>\n",
       "</div>"
      ],
      "text/plain": [
       "                           Study ID    Patient ID   Subtype cohort subtype  \\\n",
       "0  coadread_tcga_pan_can_atlas_2018  TCGA-AF-2687  READ_CIN   READ     CIN   \n",
       "\n",
       "     patient_id                                    id  \\\n",
       "0  TCGA-AF-2687  2c0da95f-22b6-42c4-ad5d-1e509735b7f7   \n",
       "\n",
       "                                            filename  \\\n",
       "0  TCGA-AF-2687-01Z-00-DX1.bbcd88f6-11d5-4b57-969...   \n",
       "\n",
       "                                md5       size  ... tissue_attr otsu_val  \\\n",
       "0  a14971966fac6442d49bf7f8850dfcd1  237001551  ...      Tissue    183.0   \n",
       "\n",
       "            shape Saving metadata time                        Tissue  \\\n",
       "0  [40320, 40320]  2023-06-18 00:59:47  [0.2939636752136752, 5503.0]   \n",
       "\n",
       "                      Background                         Black         Pen  \\\n",
       "0  [0.7038995726495727, 13177.0]  [0.002136752136752137, 40.0]  [0.0, 0.0]   \n",
       "\n",
       "                            processed_tiles_dir  Done preprocessing  \n",
       "0  /mnt/data/users/sharonpe/processed_tiles_224                True  \n",
       "\n",
       "[1 rows x 34 columns]"
      ]
     },
     "metadata": {},
     "output_type": "display_data"
    },
    {
     "data": {
      "text/plain": [
       "(1335, 34)"
      ]
     },
     "metadata": {},
     "output_type": "display_data"
    }
   ],
   "source": [
    "df_merged_manifest_jsons = df_merged_manifest_jsons[df_merged_manifest_jsons.Tissue.apply(lambda t: t[-1])>300].reset_index(drop=True)\n",
    "display(df_merged_manifest_jsons.head(1))\n",
    "display(df_merged_manifest_jsons.shape)"
   ]
  },
  {
   "cell_type": "code",
   "execution_count": 56,
   "id": "2196249c",
   "metadata": {
    "ExecuteTime": {
     "end_time": "2023-06-13T15:48:50.736927Z",
     "start_time": "2023-06-13T15:48:50.685744Z"
    }
   },
   "outputs": [],
   "source": [
    "df_merged_manifest_jsons.to_csv(\"manifest_labeled_dx_molecular_subtype.tsv\", sep='\\t', index=False)"
   ]
  },
  {
   "cell_type": "code",
   "execution_count": 12,
   "id": "1d101029",
   "metadata": {
    "ExecuteTime": {
     "end_time": "2023-06-13T15:48:50.736927Z",
     "start_time": "2023-06-13T15:48:50.685744Z"
    }
   },
   "outputs": [],
   "source": []
  },
  {
   "cell_type": "code",
   "execution_count": null,
   "id": "4985cfad",
   "metadata": {},
   "outputs": [],
   "source": []
  }
 ],
 "metadata": {
  "kernelspec": {
   "display_name": "Python 3 (ipykernel)",
   "language": "python",
   "name": "python3"
  },
  "language_info": {
   "codemirror_mode": {
    "name": "ipython",
    "version": 3
   },
   "file_extension": ".py",
   "mimetype": "text/x-python",
   "name": "python",
   "nbconvert_exporter": "python",
   "pygments_lexer": "ipython3",
   "version": "3.9.15"
  },
  "toc": {
   "base_numbering": 1,
   "nav_menu": {},
   "number_sections": true,
   "sideBar": true,
   "skip_h1_title": false,
   "title_cell": "Table of Contents",
   "title_sidebar": "Contents",
   "toc_cell": false,
   "toc_position": {},
   "toc_section_display": true,
   "toc_window_display": false
  },
  "varInspector": {
   "cols": {
    "lenName": 16,
    "lenType": 16,
    "lenVar": 40
   },
   "kernels_config": {
    "python": {
     "delete_cmd_postfix": "",
     "delete_cmd_prefix": "del ",
     "library": "var_list.py",
     "varRefreshCmd": "print(var_dic_list())"
    },
    "r": {
     "delete_cmd_postfix": ") ",
     "delete_cmd_prefix": "rm(",
     "library": "var_list.r",
     "varRefreshCmd": "cat(var_dic_list()) "
    }
   },
   "types_to_exclude": [
    "module",
    "function",
    "builtin_function_or_method",
    "instance",
    "_Feature"
   ],
   "window_display": false
  }
 },
 "nbformat": 4,
 "nbformat_minor": 5
}
