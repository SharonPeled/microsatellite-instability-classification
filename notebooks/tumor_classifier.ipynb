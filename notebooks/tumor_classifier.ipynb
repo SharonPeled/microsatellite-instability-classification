{
 "cells": [
  {
   "cell_type": "code",
   "execution_count": 1,
   "id": "121d997a",
   "metadata": {},
   "outputs": [],
   "source": [
    "import os\n",
    "import torch\n",
    "from torch import nn\n",
    "import torch.nn.functional as F\n",
    "from torchvision import transforms\n",
    "from torch.utils.data import DataLoader, Dataset, Subset\n",
    "from torchvision.datasets import ImageFolder\n",
    "import pytorch_lightning as pl\n",
    "from torchvision.models import resnet50\n",
    "from sklearn.model_selection import StratifiedShuffleSplit\n",
    "from dataclasses import dataclass\n",
    "from torch.multiprocessing import Pool, set_start_method\n",
    "from pytorch_lightning.loggers import TensorBoardLogger\n",
    "from torch.nn.functional import softmax\n",
    "from sklearn.metrics import precision_recall_fscore_support, roc_auc_score\n",
    "from torch.optim.lr_scheduler import ReduceLROnPlateau\n",
    "import torchstain\n",
    "from PIL import Image\n",
    "import matplotlib.pyplot as plt "
   ]
  },
  {
   "cell_type": "code",
   "execution_count": 2,
   "id": "81a89a4c",
   "metadata": {},
   "outputs": [],
   "source": [
    "import sys\n",
    "sys.path.append(\"../\")\n",
    "import warnings\n",
    "warnings.filterwarnings(\"ignore\", category=UserWarning, module=\"torchstain\")"
   ]
  },
  {
   "cell_type": "code",
   "execution_count": 3,
   "id": "9a8533a0",
   "metadata": {},
   "outputs": [],
   "source": [
    "set_start_method(\"spawn\")"
   ]
  },
  {
   "cell_type": "code",
   "execution_count": 4,
   "id": "ba9f4f11",
   "metadata": {},
   "outputs": [],
   "source": [
    "# %load_ext autoreload\n",
    "# %autoreload 2\n",
    "from src.utils import set_random_seed\n",
    "from src.configs import ConfigsClass\n",
    "from tumor_classifier import TileDataset, MacenkoNormalizerTransform"
   ]
  },
  {
   "cell_type": "code",
   "execution_count": 5,
   "id": "442ca498",
   "metadata": {},
   "outputs": [],
   "source": [
    "@dataclass\n",
    "class Configs:\n",
    "    DATA_ROOT = '../data/tumor_labeled_tiles'\n",
    "    LOG_DIR = os.getcwd()\n",
    "    COLOR_NORM_REF_IMG = ConfigsClass.COLOR_NORM_REF_IMG\n",
    "    DEVICE = 'gpu'\n",
    "    NUM_DEVICES = 1  # in jupyter multiple devices is not supported\n",
    "    INIT_LR = 1e-4\n",
    "    BATCH_SIZE = 16\n",
    "    RANDOM_SEED = 123\n",
    "    NUM_CLASSES = 3\n",
    "    EXPERIMENT = 'tc_V1'\n",
    "    TUMOR_CLASS = 'TUMSTU'\n",
    "    NON_TUMOR_CLASSES = ['STRMUS', 'ADIMUC']\n",
    "    TUMOR_IND = None\n",
    "    NON_TUMOR_INDS = None"
   ]
  },
  {
   "cell_type": "code",
   "execution_count": 6,
   "id": "a141264a",
   "metadata": {},
   "outputs": [],
   "source": [
    "set_random_seed(Configs.RANDOM_SEED)"
   ]
  },
  {
   "cell_type": "code",
   "execution_count": 7,
   "id": "3661bbbf",
   "metadata": {},
   "outputs": [],
   "source": [
    "dataset = ImageFolder(Configs.DATA_ROOT)\n",
    "Configs.TUMOR_IND = dataset.class_to_idx[Configs.TUMOR_CLASS]\n",
    "Configs.NON_TUMOR_INDS = [dataset.class_to_idx[class_name] for class_name in Configs.NON_TUMOR_CLASSES]"
   ]
  },
  {
   "cell_type": "code",
   "execution_count": 8,
   "id": "1cf9a99e",
   "metadata": {},
   "outputs": [],
   "source": [
    "train_transform = transforms.Compose([\n",
    "        transforms.RandomHorizontalFlip(),  # reverse 50% of images\n",
    "        transforms.RandomVerticalFlip(),  # reverse 50% of images  \n",
    "        transforms.Resize(224),            \n",
    "        transforms.CenterCrop(224),         \n",
    "        transforms.ToTensor(),\n",
    "        MacenkoNormalizerTransform(Configs.COLOR_NORM_REF_IMG),\n",
    "        transforms.Normalize([0.485, 0.456, 0.406],\n",
    "                             [0.229, 0.224, 0.225])\n",
    "    ])\n",
    "\n",
    "valid_transform = transforms.Compose([\n",
    "        transforms.Resize(224),\n",
    "        transforms.CenterCrop(224),\n",
    "        transforms.ToTensor(),\n",
    "        MacenkoNormalizerTransform(Configs.COLOR_NORM_REF_IMG),\n",
    "        transforms.Normalize([0.485, 0.456, 0.406],\n",
    "                             [0.229, 0.224, 0.225])\n",
    "    ])"
   ]
  },
  {
   "cell_type": "code",
   "execution_count": 9,
   "id": "a5861ea3",
   "metadata": {},
   "outputs": [],
   "source": [
    "# train test split\n",
    "train_test_split = StratifiedShuffleSplit(n_splits=1, test_size=0.2, random_state=Configs.RANDOM_SEED)\n",
    "train_inds, test_inds = next(train_test_split.split(dataset, y=dataset.targets))\n",
    "# train validation split\n",
    "train_valid_split = StratifiedShuffleSplit(n_splits=1, test_size=0.1, random_state=Configs.RANDOM_SEED)\n",
    "train_inds, valid_inds = next(train_valid_split.split(train_inds, y=[dataset.targets[i] for i in train_inds]))"
   ]
  },
  {
   "cell_type": "code",
   "execution_count": 10,
   "id": "28dd4f06",
   "metadata": {},
   "outputs": [
    {
     "data": {
      "text/plain": [
       "(8622, 959, 2396)"
      ]
     },
     "execution_count": 10,
     "metadata": {},
     "output_type": "execute_result"
    }
   ],
   "source": [
    "train_dataset = TileDataset(Subset(dataset, train_inds), transform=train_transform)\n",
    "valid_dataset = TileDataset(Subset(dataset, valid_inds), transform=valid_transform)\n",
    "test_dataset = TileDataset(Subset(dataset, test_inds), transform=valid_transform)\n",
    "len(train_dataset), len(valid_dataset), len(test_dataset)"
   ]
  },
  {
   "cell_type": "code",
   "execution_count": 11,
   "id": "7ecf7028",
   "metadata": {},
   "outputs": [],
   "source": [
    "train_loader = DataLoader(train_dataset, batch_size=Configs.BATCH_SIZE, shuffle=True, num_workers=16)\n",
    "valid_loader = DataLoader(valid_dataset, batch_size=Configs.BATCH_SIZE, shuffle=False, num_workers=16)\n",
    "test_loader = DataLoader(test_dataset, batch_size=Configs.BATCH_SIZE, shuffle=False, num_workers=16)"
   ]
  },
  {
   "cell_type": "code",
   "execution_count": 12,
   "id": "85ccef15",
   "metadata": {},
   "outputs": [],
   "source": [
    "class TumorClassifier(pl.LightningModule):\n",
    "    def __init__(self, num_classes):\n",
    "        super().__init__()\n",
    "        backbone = resnet50(weights=\"IMAGENET1K_V2\")\n",
    "        num_filters = backbone.fc.in_features\n",
    "        layers = list(backbone.children())[:-1]\n",
    "        layers.append(nn.Flatten())\n",
    "        layers.append(nn.Linear(num_filters, num_classes))\n",
    "        self.model = nn.Sequential(*layers)\n",
    "\n",
    "    def forward(self, x):\n",
    "        return self.model(x)\n",
    "    \n",
    "    def loss(self, scores, targets):\n",
    "        return F.cross_entropy(scores, targets)\n",
    "    \n",
    "    def configure_optimizers(self):\n",
    "        optimizer = torch.optim.Adam(self.parameters(), lr=Configs.INIT_LR)\n",
    "        scheduler = ReduceLROnPlateau(optimizer, factor=0.1, patience=2)\n",
    "        return {'optimizer': optimizer, 'lr_scheduler': scheduler, 'monitor': 'val_loss'}\n",
    "    \n",
    "    def general_loop(self, batch, batch_idx):\n",
    "        x, y = batch\n",
    "        scores = self.forward(x)\n",
    "        loss = self.loss(scores, y)\n",
    "        return loss, scores, y\n",
    "\n",
    "    def training_step(self, batch, batch_idx):\n",
    "        train_loss, scores, y =  self.general_loop(batch, batch_idx)\n",
    "        self.log(\"train_loss\", train_loss, on_step=True, on_epoch=True)\n",
    "        return {\"loss\": train_loss}\n",
    "\n",
    "    def validation_step(self, batch, batch_idx):\n",
    "        val_loss, scores, y =  self.general_loop(batch, batch_idx)\n",
    "        self.log(\"val_loss\", val_loss, on_step=False, on_epoch=True)\n",
    "        return {\"scores\": scores, \"y\": y}\n",
    "    \n",
    "    def test_step(self, batch, batch_idx):\n",
    "        test_loss, scores, y =  self.general_loop(batch, batch_idx)\n",
    "        self.log(\"test_loss\", test_loss, on_step=False, on_epoch=True)\n",
    "        return {\"scores\": scores, \"y\": y}\n",
    "    \n",
    "    def log_epoch_level_metrics(self, outputs, dataset_str):\n",
    "        scores = torch.concat([out[\"scores\"] for out in outputs])\n",
    "        logits = softmax(scores, dim=1)\n",
    "        tumor_prob = logits[:, Configs.TUMOR_IND].cpu().numpy()\n",
    "        y_pred = (torch.argmax(scores, dim=1)==Configs.TUMOR_IND).int().cpu().numpy()\n",
    "        y = (torch.concat([out[\"y\"] for out in outputs])==Configs.TUMOR_IND).int().cpu().numpy()\n",
    "        precision, recall, f1, _ = precision_recall_fscore_support(y, y_pred, average='binary')\n",
    "        auc = roc_auc_score(y, tumor_prob)\n",
    "        self.log(f\"{dataset_str}_precision\", precision)\n",
    "        self.log(f\"{dataset_str}_recall\", recall)\n",
    "        self.log(f\"{dataset_str}_f1\", f1)\n",
    "        self.log(f\"{dataset_str}_auc\", auc)\n",
    "        \n",
    "    def validation_epoch_end(self, outputs):\n",
    "        self.log_epoch_level_metrics(outputs, dataset_str='valid')\n",
    "    \n",
    "    def test_epoch_end(self, outputs):\n",
    "        self.log_epoch_level_metrics(outputs, dataset_str='test')"
   ]
  },
  {
   "cell_type": "code",
   "execution_count": 13,
   "id": "37daef1a",
   "metadata": {},
   "outputs": [
    {
     "name": "stderr",
     "output_type": "stream",
     "text": [
      "/home/sharonpe/miniconda3/envs/MSI/lib/python3.9/site-packages/lightning_fabric/plugins/environments/slurm.py:166: PossibleUserWarning: The `srun` command is available on your system but is not used. HINT: If your intention is to run Lightning on SLURM, prepend your python command with `srun` like so: srun python /home/sharonpe/miniconda3/envs/MSI/lib/python3.9/sit ...\n",
      "  rank_zero_warn(\n",
      "GPU available: True (cuda), used: True\n",
      "TPU available: False, using: 0 TPU cores\n",
      "IPU available: False, using: 0 IPUs\n",
      "HPU available: False, using: 0 HPUs\n"
     ]
    }
   ],
   "source": [
    "model = TumorClassifier(Configs.NUM_CLASSES)\n",
    "logger= TensorBoardLogger(f\"logs/{Configs.EXPERIMENT}\")\n",
    "trainer = pl.Trainer(devices=Configs.NUM_DEVICES, accelerator=Configs.DEVICE, \n",
    "                     deterministic=True, \n",
    "                     check_val_every_n_epoch=1,\n",
    "                     default_root_dir=Configs.LOG_DIR,\n",
    "                     enable_checkpointing=True,\n",
    "                     logger=True,\n",
    "                     num_sanity_val_steps=2,\n",
    "                     max_epochs=10)\n",
    "                     \n",
    "#                      limit_train_batches=10)\n",
    "#                      limit_val_batches=5\n",
    "#                      fast_dev_run=2)\n",
    "#                      profiler=True)"
   ]
  },
  {
   "cell_type": "code",
   "execution_count": 14,
   "id": "33614442",
   "metadata": {
    "scrolled": false
   },
   "outputs": [
    {
     "name": "stderr",
     "output_type": "stream",
     "text": [
      "LOCAL_RANK: 0 - CUDA_VISIBLE_DEVICES: [0,1]\n",
      "\n",
      "  | Name  | Type       | Params\n",
      "-------------------------------------\n",
      "0 | model | Sequential | 23.5 M\n",
      "-------------------------------------\n",
      "23.5 M    Trainable params\n",
      "0         Non-trainable params\n",
      "23.5 M    Total params\n",
      "94.057    Total estimated model params size (MB)\n"
     ]
    },
    {
     "data": {
      "application/json": {
       "ascii": false,
       "bar_format": null,
       "colour": null,
       "elapsed": 0.01191401481628418,
       "initial": 0,
       "n": 0,
       "ncols": 114,
       "nrows": 33,
       "postfix": null,
       "prefix": "Sanity Checking",
       "rate": null,
       "total": null,
       "unit": "it",
       "unit_divisor": 1000,
       "unit_scale": false
      },
      "application/vnd.jupyter.widget-view+json": {
       "model_id": "",
       "version_major": 2,
       "version_minor": 0
      },
      "text/plain": [
       "Sanity Checking: 0it [00:00, ?it/s]"
      ]
     },
     "metadata": {},
     "output_type": "display_data"
    },
    {
     "data": {
      "application/json": {
       "ascii": false,
       "bar_format": null,
       "colour": null,
       "elapsed": 0.006613492965698242,
       "initial": 0,
       "n": 0,
       "ncols": 114,
       "nrows": 33,
       "postfix": null,
       "prefix": "Training",
       "rate": null,
       "total": null,
       "unit": "it",
       "unit_divisor": 1000,
       "unit_scale": false
      },
      "application/vnd.jupyter.widget-view+json": {
       "model_id": "f25a41079ede4ad8bf86c99bad4344b1",
       "version_major": 2,
       "version_minor": 0
      },
      "text/plain": [
       "Training: 0it [00:00, ?it/s]"
      ]
     },
     "metadata": {},
     "output_type": "display_data"
    },
    {
     "data": {
      "application/json": {
       "ascii": false,
       "bar_format": null,
       "colour": null,
       "elapsed": 0.007233858108520508,
       "initial": 0,
       "n": 0,
       "ncols": 114,
       "nrows": 33,
       "postfix": null,
       "prefix": "Validation",
       "rate": null,
       "total": null,
       "unit": "it",
       "unit_divisor": 1000,
       "unit_scale": false
      },
      "application/vnd.jupyter.widget-view+json": {
       "model_id": "",
       "version_major": 2,
       "version_minor": 0
      },
      "text/plain": [
       "Validation: 0it [00:00, ?it/s]"
      ]
     },
     "metadata": {},
     "output_type": "display_data"
    },
    {
     "data": {
      "application/json": {
       "ascii": false,
       "bar_format": null,
       "colour": null,
       "elapsed": 0.007901668548583984,
       "initial": 0,
       "n": 0,
       "ncols": 114,
       "nrows": 33,
       "postfix": null,
       "prefix": "Validation",
       "rate": null,
       "total": null,
       "unit": "it",
       "unit_divisor": 1000,
       "unit_scale": false
      },
      "application/vnd.jupyter.widget-view+json": {
       "model_id": "",
       "version_major": 2,
       "version_minor": 0
      },
      "text/plain": [
       "Validation: 0it [00:00, ?it/s]"
      ]
     },
     "metadata": {},
     "output_type": "display_data"
    },
    {
     "data": {
      "application/json": {
       "ascii": false,
       "bar_format": null,
       "colour": null,
       "elapsed": 0.008434057235717773,
       "initial": 0,
       "n": 0,
       "ncols": 114,
       "nrows": 33,
       "postfix": null,
       "prefix": "Validation",
       "rate": null,
       "total": null,
       "unit": "it",
       "unit_divisor": 1000,
       "unit_scale": false
      },
      "application/vnd.jupyter.widget-view+json": {
       "model_id": "",
       "version_major": 2,
       "version_minor": 0
      },
      "text/plain": [
       "Validation: 0it [00:00, ?it/s]"
      ]
     },
     "metadata": {},
     "output_type": "display_data"
    },
    {
     "data": {
      "application/json": {
       "ascii": false,
       "bar_format": null,
       "colour": null,
       "elapsed": 0.009239673614501953,
       "initial": 0,
       "n": 0,
       "ncols": 114,
       "nrows": 33,
       "postfix": null,
       "prefix": "Validation",
       "rate": null,
       "total": null,
       "unit": "it",
       "unit_divisor": 1000,
       "unit_scale": false
      },
      "application/vnd.jupyter.widget-view+json": {
       "model_id": "",
       "version_major": 2,
       "version_minor": 0
      },
      "text/plain": [
       "Validation: 0it [00:00, ?it/s]"
      ]
     },
     "metadata": {},
     "output_type": "display_data"
    },
    {
     "data": {
      "application/json": {
       "ascii": false,
       "bar_format": null,
       "colour": null,
       "elapsed": 0.008618354797363281,
       "initial": 0,
       "n": 0,
       "ncols": 114,
       "nrows": 33,
       "postfix": null,
       "prefix": "Validation",
       "rate": null,
       "total": null,
       "unit": "it",
       "unit_divisor": 1000,
       "unit_scale": false
      },
      "application/vnd.jupyter.widget-view+json": {
       "model_id": "",
       "version_major": 2,
       "version_minor": 0
      },
      "text/plain": [
       "Validation: 0it [00:00, ?it/s]"
      ]
     },
     "metadata": {},
     "output_type": "display_data"
    },
    {
     "data": {
      "application/json": {
       "ascii": false,
       "bar_format": null,
       "colour": null,
       "elapsed": 0.008158445358276367,
       "initial": 0,
       "n": 0,
       "ncols": 114,
       "nrows": 33,
       "postfix": null,
       "prefix": "Validation",
       "rate": null,
       "total": null,
       "unit": "it",
       "unit_divisor": 1000,
       "unit_scale": false
      },
      "application/vnd.jupyter.widget-view+json": {
       "model_id": "",
       "version_major": 2,
       "version_minor": 0
      },
      "text/plain": [
       "Validation: 0it [00:00, ?it/s]"
      ]
     },
     "metadata": {},
     "output_type": "display_data"
    },
    {
     "data": {
      "application/json": {
       "ascii": false,
       "bar_format": null,
       "colour": null,
       "elapsed": 0.007619619369506836,
       "initial": 0,
       "n": 0,
       "ncols": 114,
       "nrows": 33,
       "postfix": null,
       "prefix": "Validation",
       "rate": null,
       "total": null,
       "unit": "it",
       "unit_divisor": 1000,
       "unit_scale": false
      },
      "application/vnd.jupyter.widget-view+json": {
       "model_id": "",
       "version_major": 2,
       "version_minor": 0
      },
      "text/plain": [
       "Validation: 0it [00:00, ?it/s]"
      ]
     },
     "metadata": {},
     "output_type": "display_data"
    },
    {
     "data": {
      "application/json": {
       "ascii": false,
       "bar_format": null,
       "colour": null,
       "elapsed": 0.009560108184814453,
       "initial": 0,
       "n": 0,
       "ncols": 114,
       "nrows": 33,
       "postfix": null,
       "prefix": "Validation",
       "rate": null,
       "total": null,
       "unit": "it",
       "unit_divisor": 1000,
       "unit_scale": false
      },
      "application/vnd.jupyter.widget-view+json": {
       "model_id": "",
       "version_major": 2,
       "version_minor": 0
      },
      "text/plain": [
       "Validation: 0it [00:00, ?it/s]"
      ]
     },
     "metadata": {},
     "output_type": "display_data"
    },
    {
     "data": {
      "application/json": {
       "ascii": false,
       "bar_format": null,
       "colour": null,
       "elapsed": 0.007959365844726562,
       "initial": 0,
       "n": 0,
       "ncols": 114,
       "nrows": 33,
       "postfix": null,
       "prefix": "Validation",
       "rate": null,
       "total": null,
       "unit": "it",
       "unit_divisor": 1000,
       "unit_scale": false
      },
      "application/vnd.jupyter.widget-view+json": {
       "model_id": "",
       "version_major": 2,
       "version_minor": 0
      },
      "text/plain": [
       "Validation: 0it [00:00, ?it/s]"
      ]
     },
     "metadata": {},
     "output_type": "display_data"
    },
    {
     "data": {
      "application/json": {
       "ascii": false,
       "bar_format": null,
       "colour": null,
       "elapsed": 0.013997793197631836,
       "initial": 0,
       "n": 0,
       "ncols": 114,
       "nrows": 33,
       "postfix": null,
       "prefix": "Validation",
       "rate": null,
       "total": null,
       "unit": "it",
       "unit_divisor": 1000,
       "unit_scale": false
      },
      "application/vnd.jupyter.widget-view+json": {
       "model_id": "",
       "version_major": 2,
       "version_minor": 0
      },
      "text/plain": [
       "Validation: 0it [00:00, ?it/s]"
      ]
     },
     "metadata": {},
     "output_type": "display_data"
    },
    {
     "name": "stderr",
     "output_type": "stream",
     "text": [
      "`Trainer.fit` stopped: `max_epochs=10` reached.\n"
     ]
    }
   ],
   "source": [
    "trainer.fit(model, train_loader, valid_loader,\n",
    "            ckpt_path=None)"
   ]
  },
  {
   "cell_type": "code",
   "execution_count": null,
   "id": "cee28f47",
   "metadata": {},
   "outputs": [],
   "source": [
    "model = TumorClassifier.load_from_checkpoint('lightning_logs/version_4/checkpoints/epoch=9-step=5390.ckpt',\n",
    "                                            num_classes=Configs.NUM_CLASSES)"
   ]
  },
  {
   "cell_type": "code",
   "execution_count": 15,
   "id": "9a87f793",
   "metadata": {},
   "outputs": [
    {
     "name": "stderr",
     "output_type": "stream",
     "text": [
      "/home/sharonpe/miniconda3/envs/MSI/lib/python3.9/site-packages/lightning_fabric/plugins/environments/slurm.py:166: PossibleUserWarning: The `srun` command is available on your system but is not used. HINT: If your intention is to run Lightning on SLURM, prepend your python command with `srun` like so: srun python /home/sharonpe/miniconda3/envs/MSI/lib/python3.9/sit ...\n",
      "  rank_zero_warn(\n",
      "LOCAL_RANK: 0 - CUDA_VISIBLE_DEVICES: [0,1]\n"
     ]
    },
    {
     "data": {
      "application/json": {
       "ascii": false,
       "bar_format": null,
       "colour": null,
       "elapsed": 0.006916999816894531,
       "initial": 0,
       "n": 0,
       "ncols": 114,
       "nrows": 33,
       "postfix": null,
       "prefix": "Testing",
       "rate": null,
       "total": null,
       "unit": "it",
       "unit_divisor": 1000,
       "unit_scale": false
      },
      "application/vnd.jupyter.widget-view+json": {
       "model_id": "f2575913b51a48cc8549636469be6cbf",
       "version_major": 2,
       "version_minor": 0
      },
      "text/plain": [
       "Testing: 0it [00:00, ?it/s]"
      ]
     },
     "metadata": {},
     "output_type": "display_data"
    },
    {
     "name": "stdout",
     "output_type": "stream",
     "text": [
      "────────────────────────────────────────────────────────────────────────────────────────────────────────────────────────\n",
      "       Test metric             DataLoader 0\n",
      "────────────────────────────────────────────────────────────────────────────────────────────────────────────────────────\n",
      "        test_auc            0.9996671365914787\n",
      "         test_f1            0.9452867501647989\n",
      "        test_loss           0.10564085096120834\n",
      "     test_precision                 1.0\n",
      "       test_recall                0.89625\n",
      "────────────────────────────────────────────────────────────────────────────────────────────────────────────────────────\n"
     ]
    },
    {
     "data": {
      "text/plain": [
       "[{'test_loss': 0.10564085096120834,\n",
       "  'test_precision': 1.0,\n",
       "  'test_recall': 0.89625,\n",
       "  'test_f1': 0.9452867501647989,\n",
       "  'test_auc': 0.9996671365914787}]"
      ]
     },
     "execution_count": 15,
     "metadata": {},
     "output_type": "execute_result"
    }
   ],
   "source": [
    "trainer.test(model, dataloaders=test_loader)"
   ]
  },
  {
   "cell_type": "code",
   "execution_count": 15,
   "id": "c327751f",
   "metadata": {},
   "outputs": [],
   "source": [
    "# y_pred = trainer.pre(model, dataloaders=test_loader)"
   ]
  },
  {
   "cell_type": "code",
   "execution_count": null,
   "id": "168358f0",
   "metadata": {},
   "outputs": [],
   "source": []
  },
  {
   "cell_type": "code",
   "execution_count": 16,
   "id": "5c2f2e03",
   "metadata": {},
   "outputs": [
    {
     "name": "stdout",
     "output_type": "stream",
     "text": [
      "a\n"
     ]
    }
   ],
   "source": []
  },
  {
   "cell_type": "code",
   "execution_count": null,
   "id": "c6d5f6ec",
   "metadata": {},
   "outputs": [],
   "source": []
  },
  {
   "cell_type": "code",
   "execution_count": 88,
   "id": "39ce2fe1",
   "metadata": {},
   "outputs": [],
   "source": []
  }
 ],
 "metadata": {
  "kernelspec": {
   "display_name": "Python 3 (ipykernel)",
   "language": "python",
   "name": "python3"
  },
  "language_info": {
   "codemirror_mode": {
    "name": "ipython",
    "version": 3
   },
   "file_extension": ".py",
   "mimetype": "text/x-python",
   "name": "python",
   "nbconvert_exporter": "python",
   "pygments_lexer": "ipython3",
   "version": "3.9.15"
  }
 },
 "nbformat": 4,
 "nbformat_minor": 5
}
