{
 "cells": [
  {
   "cell_type": "code",
   "execution_count": 1,
   "id": "121d997a",
   "metadata": {},
   "outputs": [],
   "source": [
    "import os\n",
    "import torch\n",
    "from torch import nn\n",
    "import torch.nn.functional as F\n",
    "from torchvision import transforms\n",
    "from torch.utils.data import DataLoader, Dataset, Subset\n",
    "from torchvision.datasets import ImageFolder\n",
    "import pytorch_lightning as pl\n",
    "from torchvision.models import resnet50\n",
    "from sklearn.model_selection import StratifiedShuffleSplit\n",
    "from dataclasses import dataclass\n",
    "from torch.multiprocessing import Pool, set_start_method\n",
    "from pytorch_lightning.loggers import TensorBoardLogger\n",
    "from torch.nn.functional import softmax\n",
    "from sklearn.metrics import precision_recall_fscore_support, roc_auc_score\n",
    "from torch.optim.lr_scheduler import ReduceLROnPlateau"
   ]
  },
  {
   "cell_type": "code",
   "execution_count": 2,
   "id": "f3caefc4",
   "metadata": {},
   "outputs": [],
   "source": [
    "import sys\n",
    "sys.path.append(\"../\")\n",
    "# set_start_method(\"spawn\")"
   ]
  },
  {
   "cell_type": "code",
   "execution_count": 3,
   "id": "ba9f4f11",
   "metadata": {},
   "outputs": [],
   "source": [
    "%load_ext autoreload\n",
    "%autoreload 2\n",
    "from src.utils import set_random_seed"
   ]
  },
  {
   "cell_type": "code",
   "execution_count": 4,
   "id": "442ca498",
   "metadata": {},
   "outputs": [],
   "source": [
    "@dataclass\n",
    "class Configs:\n",
    "    INIT_LR = 1e-4\n",
    "    BATCH_SIZE = 16\n",
    "    RANDOM_SEED = 123\n",
    "    NUM_CLASSES = 3\n",
    "    FILE_DIR = os.getcwd()\n",
    "    EXPERIMENT = 'tc_V1'\n",
    "    TUMOR_CLASS = 'TUMSTU'\n",
    "    NON_TUMOR_CLASSES = ['STRMUS', 'ADIMUC']\n",
    "    TUMOR_IND = None\n",
    "    NON_TUMOR_INDS = None"
   ]
  },
  {
   "cell_type": "code",
   "execution_count": 5,
   "id": "7049c79d",
   "metadata": {},
   "outputs": [],
   "source": [
    "set_random_seed(Configs.RANDOM_SEED)"
   ]
  },
  {
   "cell_type": "code",
   "execution_count": 6,
   "id": "cb48f667",
   "metadata": {},
   "outputs": [],
   "source": [
    "class TumorClassifier(pl.LightningModule):\n",
    "    def __init__(self, num_classes):\n",
    "        super().__init__()\n",
    "        backbone = resnet50(weights=\"IMAGENET1K_V2\")\n",
    "        num_filters = backbone.fc.in_features\n",
    "        layers = list(backbone.children())[:-1]\n",
    "        layers.append(nn.Flatten())\n",
    "        layers.append(nn.Linear(num_filters, num_classes))\n",
    "        self.model = nn.Sequential(*layers)\n",
    "\n",
    "    def forward(self, x):\n",
    "        return self.model(x)\n",
    "    \n",
    "    def loss(self, scores, targets):\n",
    "        return F.cross_entropy(scores, targets)\n",
    "    \n",
    "    def configure_optimizers(self):\n",
    "        optimizer = torch.optim.Adam(self.parameters(), lr=Configs.INIT_LR)\n",
    "        scheduler = ReduceLROnPlateau(optimizer, factor=0.1, patience=2)\n",
    "        return {'optimizer': optimizer, 'lr_scheduler': scheduler, 'monitor': 'val_loss'}\n",
    "    \n",
    "    def general_loop(self, batch, batch_idx):\n",
    "        x, y = batch\n",
    "        scores = self.forward(x)\n",
    "        loss = self.loss(scores, y)\n",
    "        return loss, scores, y\n",
    "\n",
    "    def training_step(self, batch, batch_idx):\n",
    "        train_loss, scores, y =  self.general_loop(batch, batch_idx)\n",
    "        self.log(\"train_loss\", train_loss, on_step=True, on_epoch=True)\n",
    "        return {\"loss\": train_loss}\n",
    "\n",
    "    def validation_step(self, batch, batch_idx):\n",
    "        val_loss, scores, y =  self.general_loop(batch, batch_idx)\n",
    "        self.log(\"val_loss\", val_loss, on_step=False, on_epoch=True)\n",
    "        return {\"scores\": scores, \"y\": y}\n",
    "    \n",
    "    def test_step(self, batch, batch_idx):\n",
    "        test_loss, scores, y =  self.general_loop(batch, batch_idx)\n",
    "        self.log(\"test_loss\", test_loss, on_step=False, on_epoch=True)\n",
    "        return {\"scores\": scores, \"y\": y}\n",
    "    \n",
    "    def log_epoch_level_metrics(self, outputs, dataset_str):\n",
    "        scores = torch.concat([out[\"scores\"] for out in outputs])\n",
    "        logits = softmax(scores, dim=1)\n",
    "        tumor_prob = logits[:, Configs.TUMOR_IND].cpu().numpy()\n",
    "        y_pred = (torch.argmax(scores, dim=1)==Configs.TUMOR_IND).int().cpu().numpy()\n",
    "        y = (torch.concat([out[\"y\"] for out in outputs])==Configs.TUMOR_IND).int().cpu().numpy()\n",
    "        precision, recall, f1, _ = precision_recall_fscore_support(y, y_pred, average='binary')\n",
    "        auc = roc_auc_score(y, tumor_prob)\n",
    "        self.log(f\"{dataset_str}_precision\", precision)\n",
    "        self.log(f\"{dataset_str}_recall\", recall)\n",
    "        self.log(f\"{dataset_str}_f1\", f1)\n",
    "        self.log(f\"{dataset_str}_auc\", auc)\n",
    "        \n",
    "    def validation_epoch_end(self, outputs):\n",
    "        self.log_epoch_level_metrics(outputs, dataset_str='valid')\n",
    "    \n",
    "    def test_epoch_end(self, outputs):\n",
    "        self.log_epoch_level_metrics(outputs, dataset_str='test')"
   ]
  },
  {
   "cell_type": "code",
   "execution_count": 7,
   "id": "46edaf19",
   "metadata": {},
   "outputs": [],
   "source": [
    "dataset = ImageFolder('../data/tumor_labeled_tiles')\n",
    "Configs.TUMOR_IND = dataset.class_to_idx[Configs.TUMOR_CLASS]\n",
    "Configs.NON_TUMOR_INDS = [dataset.class_to_idx[class_name] for class_name in Configs.NON_TUMOR_CLASSES]"
   ]
  },
  {
   "cell_type": "code",
   "execution_count": 8,
   "id": "1cf9a99e",
   "metadata": {},
   "outputs": [],
   "source": [
    "train_transform = transforms.Compose([\n",
    "        # augmentation\n",
    "        transforms.RandomHorizontalFlip(),  # reverse 50% of images\n",
    "        transforms.RandomVerticalFlip(),  # reverse 50% of images  \n",
    "        transforms.Resize(224),            \n",
    "        transforms.CenterCrop(224),         \n",
    "        transforms.ToTensor(),\n",
    "        transforms.Normalize([0.485, 0.456, 0.406],\n",
    "                             [0.229, 0.224, 0.225])\n",
    "    ])\n",
    "\n",
    "valid_transform = transforms.Compose([\n",
    "        transforms.Resize(224),\n",
    "        transforms.CenterCrop(224),\n",
    "        transforms.ToTensor(),\n",
    "        transforms.Normalize([0.485, 0.456, 0.406],\n",
    "                             [0.229, 0.224, 0.225])\n",
    "    ])"
   ]
  },
  {
   "cell_type": "code",
   "execution_count": 9,
   "id": "2762fe2b",
   "metadata": {},
   "outputs": [
    {
     "data": {
      "text/plain": [
       "(8622, 959, 2396)"
      ]
     },
     "execution_count": 9,
     "metadata": {},
     "output_type": "execute_result"
    }
   ],
   "source": [
    "# train test split\n",
    "train_test_split = StratifiedShuffleSplit(n_splits=1, test_size=0.2, random_state=Configs.RANDOM_SEED)\n",
    "train_inds, test_inds = next(train_test_split.split(dataset, y=dataset.targets))\n",
    "# train validation split\n",
    "train_valid_split = StratifiedShuffleSplit(n_splits=1, test_size=0.1, random_state=Configs.RANDOM_SEED)\n",
    "train_inds, valid_inds = next(train_valid_split.split(train_inds, y=[dataset.targets[i] for i in train_inds]))\n",
    "train_dataset, valid_dataset, test_dataset = Subset(dataset, train_inds), Subset(dataset, valid_inds), Subset(dataset, test_inds)\n",
    "len(train_dataset), len(valid_dataset), len(test_dataset)"
   ]
  },
  {
   "cell_type": "code",
   "execution_count": 10,
   "id": "d6ec6b8b",
   "metadata": {},
   "outputs": [],
   "source": [
    "train_dataset.dataset.transform = train_transform\n",
    "valid_dataset.dataset.transform = valid_transform\n",
    "test_dataset.dataset.transform = valid_transform"
   ]
  },
  {
   "cell_type": "code",
   "execution_count": 11,
   "id": "7ecf7028",
   "metadata": {},
   "outputs": [],
   "source": [
    "train_loader = DataLoader(train_dataset, batch_size=Configs.BATCH_SIZE, shuffle=True)\n",
    "valid_loader = DataLoader(valid_dataset, batch_size=Configs.BATCH_SIZE, shuffle=False)\n",
    "test_loader = DataLoader(test_dataset, batch_size=Configs.BATCH_SIZE, shuffle=False)"
   ]
  },
  {
   "cell_type": "code",
   "execution_count": 12,
   "id": "37daef1a",
   "metadata": {},
   "outputs": [
    {
     "name": "stderr",
     "output_type": "stream",
     "text": [
      "/home/sharonpe/miniconda3/envs/MSI/lib/python3.9/site-packages/lightning_fabric/plugins/environments/slurm.py:166: PossibleUserWarning: The `srun` command is available on your system but is not used. HINT: If your intention is to run Lightning on SLURM, prepend your python command with `srun` like so: srun python /home/sharonpe/miniconda3/envs/MSI/lib/python3.9/sit ...\n",
      "  rank_zero_warn(\n",
      "GPU available: True (cuda), used: True\n",
      "TPU available: False, using: 0 TPU cores\n",
      "IPU available: False, using: 0 IPUs\n",
      "HPU available: False, using: 0 HPUs\n"
     ]
    }
   ],
   "source": [
    "# TODO: multiprocess\n",
    "model = TumorClassifier(Configs.NUM_CLASSES)\n",
    "logger= TensorBoardLogger(f\"logs/{Configs.EXPERIMENT}\")\n",
    "trainer = pl.Trainer(devices=\"1\", accelerator=\"gpu\", \n",
    "                     deterministic=True, \n",
    "                     check_val_every_n_epoch=1,\n",
    "                     default_root_dir=Configs.FILE_DIR,\n",
    "                     enable_checkpointing=True,\n",
    "                     logger=True,\n",
    "                     num_sanity_val_steps=2,\n",
    "                     max_epochs=10)\n",
    "                     \n",
    "#                      limit_train_batches=10)\n",
    "#                      limit_val_batches=5\n",
    "#                      fast_dev_run=2)\n",
    "#                      profiler=True)"
   ]
  },
  {
   "cell_type": "code",
   "execution_count": 13,
   "id": "33614442",
   "metadata": {
    "scrolled": false
   },
   "outputs": [
    {
     "name": "stderr",
     "output_type": "stream",
     "text": [
      "LOCAL_RANK: 0 - CUDA_VISIBLE_DEVICES: [0,1]\n",
      "\n",
      "  | Name  | Type       | Params\n",
      "-------------------------------------\n",
      "0 | model | Sequential | 23.5 M\n",
      "-------------------------------------\n",
      "23.5 M    Trainable params\n",
      "0         Non-trainable params\n",
      "23.5 M    Total params\n",
      "94.057    Total estimated model params size (MB)\n"
     ]
    },
    {
     "data": {
      "application/json": {
       "ascii": false,
       "bar_format": null,
       "colour": null,
       "elapsed": 0.010314226150512695,
       "initial": 0,
       "n": 0,
       "ncols": 104,
       "nrows": 33,
       "postfix": null,
       "prefix": "Sanity Checking",
       "rate": null,
       "total": null,
       "unit": "it",
       "unit_divisor": 1000,
       "unit_scale": false
      },
      "application/vnd.jupyter.widget-view+json": {
       "model_id": "",
       "version_major": 2,
       "version_minor": 0
      },
      "text/plain": [
       "Sanity Checking: 0it [00:00, ?it/s]"
      ]
     },
     "metadata": {},
     "output_type": "display_data"
    },
    {
     "name": "stderr",
     "output_type": "stream",
     "text": [
      "/home/sharonpe/miniconda3/envs/MSI/lib/python3.9/site-packages/pytorch_lightning/trainer/connectors/data_connector.py:224: PossibleUserWarning: The dataloader, val_dataloader 0, does not have many workers which may be a bottleneck. Consider increasing the value of the `num_workers` argument` (try 80 which is the number of cpus on this machine) in the `DataLoader` init to improve performance.\n",
      "  rank_zero_warn(\n",
      "/home/sharonpe/miniconda3/envs/MSI/lib/python3.9/site-packages/pytorch_lightning/trainer/connectors/data_connector.py:224: PossibleUserWarning: The dataloader, train_dataloader, does not have many workers which may be a bottleneck. Consider increasing the value of the `num_workers` argument` (try 80 which is the number of cpus on this machine) in the `DataLoader` init to improve performance.\n",
      "  rank_zero_warn(\n"
     ]
    },
    {
     "data": {
      "application/json": {
       "ascii": false,
       "bar_format": null,
       "colour": null,
       "elapsed": 0.005462646484375,
       "initial": 0,
       "n": 0,
       "ncols": 104,
       "nrows": 33,
       "postfix": null,
       "prefix": "Training",
       "rate": null,
       "total": null,
       "unit": "it",
       "unit_divisor": 1000,
       "unit_scale": false
      },
      "application/vnd.jupyter.widget-view+json": {
       "model_id": "5bae15edc71c417194d5c078efb68e22",
       "version_major": 2,
       "version_minor": 0
      },
      "text/plain": [
       "Training: 0it [00:00, ?it/s]"
      ]
     },
     "metadata": {},
     "output_type": "display_data"
    },
    {
     "data": {
      "application/json": {
       "ascii": false,
       "bar_format": null,
       "colour": null,
       "elapsed": 0.0067250728607177734,
       "initial": 0,
       "n": 0,
       "ncols": 104,
       "nrows": 33,
       "postfix": null,
       "prefix": "Validation",
       "rate": null,
       "total": null,
       "unit": "it",
       "unit_divisor": 1000,
       "unit_scale": false
      },
      "application/vnd.jupyter.widget-view+json": {
       "model_id": "",
       "version_major": 2,
       "version_minor": 0
      },
      "text/plain": [
       "Validation: 0it [00:00, ?it/s]"
      ]
     },
     "metadata": {},
     "output_type": "display_data"
    },
    {
     "data": {
      "application/json": {
       "ascii": false,
       "bar_format": null,
       "colour": null,
       "elapsed": 0.011420488357543945,
       "initial": 0,
       "n": 0,
       "ncols": 104,
       "nrows": 33,
       "postfix": null,
       "prefix": "Validation",
       "rate": null,
       "total": null,
       "unit": "it",
       "unit_divisor": 1000,
       "unit_scale": false
      },
      "application/vnd.jupyter.widget-view+json": {
       "model_id": "",
       "version_major": 2,
       "version_minor": 0
      },
      "text/plain": [
       "Validation: 0it [00:00, ?it/s]"
      ]
     },
     "metadata": {},
     "output_type": "display_data"
    },
    {
     "data": {
      "application/json": {
       "ascii": false,
       "bar_format": null,
       "colour": null,
       "elapsed": 0.006559133529663086,
       "initial": 0,
       "n": 0,
       "ncols": 104,
       "nrows": 33,
       "postfix": null,
       "prefix": "Validation",
       "rate": null,
       "total": null,
       "unit": "it",
       "unit_divisor": 1000,
       "unit_scale": false
      },
      "application/vnd.jupyter.widget-view+json": {
       "model_id": "",
       "version_major": 2,
       "version_minor": 0
      },
      "text/plain": [
       "Validation: 0it [00:00, ?it/s]"
      ]
     },
     "metadata": {},
     "output_type": "display_data"
    },
    {
     "data": {
      "application/json": {
       "ascii": false,
       "bar_format": null,
       "colour": null,
       "elapsed": 0.00752568244934082,
       "initial": 0,
       "n": 0,
       "ncols": 104,
       "nrows": 33,
       "postfix": null,
       "prefix": "Validation",
       "rate": null,
       "total": null,
       "unit": "it",
       "unit_divisor": 1000,
       "unit_scale": false
      },
      "application/vnd.jupyter.widget-view+json": {
       "model_id": "",
       "version_major": 2,
       "version_minor": 0
      },
      "text/plain": [
       "Validation: 0it [00:00, ?it/s]"
      ]
     },
     "metadata": {},
     "output_type": "display_data"
    },
    {
     "data": {
      "application/json": {
       "ascii": false,
       "bar_format": null,
       "colour": null,
       "elapsed": 0.005749702453613281,
       "initial": 0,
       "n": 0,
       "ncols": 104,
       "nrows": 33,
       "postfix": null,
       "prefix": "Validation",
       "rate": null,
       "total": null,
       "unit": "it",
       "unit_divisor": 1000,
       "unit_scale": false
      },
      "application/vnd.jupyter.widget-view+json": {
       "model_id": "",
       "version_major": 2,
       "version_minor": 0
      },
      "text/plain": [
       "Validation: 0it [00:00, ?it/s]"
      ]
     },
     "metadata": {},
     "output_type": "display_data"
    },
    {
     "data": {
      "application/json": {
       "ascii": false,
       "bar_format": null,
       "colour": null,
       "elapsed": 0.00614619255065918,
       "initial": 0,
       "n": 0,
       "ncols": 104,
       "nrows": 33,
       "postfix": null,
       "prefix": "Validation",
       "rate": null,
       "total": null,
       "unit": "it",
       "unit_divisor": 1000,
       "unit_scale": false
      },
      "application/vnd.jupyter.widget-view+json": {
       "model_id": "",
       "version_major": 2,
       "version_minor": 0
      },
      "text/plain": [
       "Validation: 0it [00:00, ?it/s]"
      ]
     },
     "metadata": {},
     "output_type": "display_data"
    },
    {
     "data": {
      "application/json": {
       "ascii": false,
       "bar_format": null,
       "colour": null,
       "elapsed": 0.005517244338989258,
       "initial": 0,
       "n": 0,
       "ncols": 104,
       "nrows": 33,
       "postfix": null,
       "prefix": "Validation",
       "rate": null,
       "total": null,
       "unit": "it",
       "unit_divisor": 1000,
       "unit_scale": false
      },
      "application/vnd.jupyter.widget-view+json": {
       "model_id": "",
       "version_major": 2,
       "version_minor": 0
      },
      "text/plain": [
       "Validation: 0it [00:00, ?it/s]"
      ]
     },
     "metadata": {},
     "output_type": "display_data"
    },
    {
     "data": {
      "application/json": {
       "ascii": false,
       "bar_format": null,
       "colour": null,
       "elapsed": 0.005682468414306641,
       "initial": 0,
       "n": 0,
       "ncols": 104,
       "nrows": 33,
       "postfix": null,
       "prefix": "Validation",
       "rate": null,
       "total": null,
       "unit": "it",
       "unit_divisor": 1000,
       "unit_scale": false
      },
      "application/vnd.jupyter.widget-view+json": {
       "model_id": "",
       "version_major": 2,
       "version_minor": 0
      },
      "text/plain": [
       "Validation: 0it [00:00, ?it/s]"
      ]
     },
     "metadata": {},
     "output_type": "display_data"
    },
    {
     "data": {
      "application/json": {
       "ascii": false,
       "bar_format": null,
       "colour": null,
       "elapsed": 0.006060123443603516,
       "initial": 0,
       "n": 0,
       "ncols": 104,
       "nrows": 33,
       "postfix": null,
       "prefix": "Validation",
       "rate": null,
       "total": null,
       "unit": "it",
       "unit_divisor": 1000,
       "unit_scale": false
      },
      "application/vnd.jupyter.widget-view+json": {
       "model_id": "",
       "version_major": 2,
       "version_minor": 0
      },
      "text/plain": [
       "Validation: 0it [00:00, ?it/s]"
      ]
     },
     "metadata": {},
     "output_type": "display_data"
    },
    {
     "data": {
      "application/json": {
       "ascii": false,
       "bar_format": null,
       "colour": null,
       "elapsed": 0.006600141525268555,
       "initial": 0,
       "n": 0,
       "ncols": 104,
       "nrows": 33,
       "postfix": null,
       "prefix": "Validation",
       "rate": null,
       "total": null,
       "unit": "it",
       "unit_divisor": 1000,
       "unit_scale": false
      },
      "application/vnd.jupyter.widget-view+json": {
       "model_id": "",
       "version_major": 2,
       "version_minor": 0
      },
      "text/plain": [
       "Validation: 0it [00:00, ?it/s]"
      ]
     },
     "metadata": {},
     "output_type": "display_data"
    },
    {
     "name": "stderr",
     "output_type": "stream",
     "text": [
      "`Trainer.fit` stopped: `max_epochs=10` reached.\n"
     ]
    }
   ],
   "source": [
    "trainer.fit(model, train_loader, valid_loader,\n",
    "            ckpt_path=None)"
   ]
  },
  {
   "cell_type": "code",
   "execution_count": 14,
   "id": "9a87f793",
   "metadata": {},
   "outputs": [],
   "source": [
    "# y_pred = trainer.test(model, dataloaders=test_loader)"
   ]
  },
  {
   "cell_type": "code",
   "execution_count": 15,
   "id": "c327751f",
   "metadata": {},
   "outputs": [],
   "source": [
    "# y_pred = trainer.pre(model, dataloaders=test_loader)"
   ]
  },
  {
   "cell_type": "code",
   "execution_count": null,
   "id": "168358f0",
   "metadata": {},
   "outputs": [],
   "source": []
  },
  {
   "cell_type": "code",
   "execution_count": null,
   "id": "5c2f2e03",
   "metadata": {},
   "outputs": [],
   "source": []
  },
  {
   "cell_type": "code",
   "execution_count": null,
   "id": "c6d5f6ec",
   "metadata": {},
   "outputs": [],
   "source": []
  },
  {
   "cell_type": "code",
   "execution_count": 88,
   "id": "39ce2fe1",
   "metadata": {},
   "outputs": [],
   "source": []
  }
 ],
 "metadata": {
  "kernelspec": {
   "display_name": "Python 3 (ipykernel)",
   "language": "python",
   "name": "python3"
  },
  "language_info": {
   "codemirror_mode": {
    "name": "ipython",
    "version": 3
   },
   "file_extension": ".py",
   "mimetype": "text/x-python",
   "name": "python",
   "nbconvert_exporter": "python",
   "pygments_lexer": "ipython3",
   "version": "3.9.15"
  }
 },
 "nbformat": 4,
 "nbformat_minor": 5
}
